{
 "cells": [
  {
   "cell_type": "markdown",
   "metadata": {},
   "source": [
    "Author : Debayan Saha, Myers lab. dsaha@mpi-cbg.de"
   ]
  },
  {
   "cell_type": "code",
   "execution_count": null,
   "metadata": {},
   "outputs": [],
   "source": [
    "import numpy as np\n",
    "import tifffile\n",
    "import matplotlib.pyplot as plt\n",
    "import glob\n",
    "import scipy.ndimage.filters as filters\n",
    "import scipy.ndimage as ndimage\n",
    "from scipy.spatial.distance import cdist\n",
    "from scipy.optimize import curve_fit\n",
    "from matplotlib import cm\n",
    "import os\n",
    "%matplotlib inline"
   ]
  },
  {
   "cell_type": "markdown",
   "metadata": {},
   "source": [
    "# Defining functions"
   ]
  },
  {
   "cell_type": "code",
   "execution_count": null,
   "metadata": {},
   "outputs": [],
   "source": [
    "# param : img:   3D numpy array, image\n",
    "#         neighborhood_size : tuple of ints, kernel size for maxima and minma filter (z,y,x)\n",
    "#         threshold : int, determines the threshold differnece between maximum peak intensity and background to count as a bead\n",
    "\n",
    "def detectBeads(img,neighborhood_size = (50,15,15),threshold = 1500):\n",
    "    \n",
    "    data = img\n",
    "    \n",
    "    # Bead segmentation, the mask of the bead is in maxima\n",
    "    print(\"Bead Mask formation\")\n",
    "    data_max = filters.maximum_filter(data, neighborhood_size)\n",
    "    maxima = (data == data_max)                                    \n",
    "    data_min = filters.minimum_filter(data, neighborhood_size)\n",
    "    diff = ((data_max - data_min) > threshold)\n",
    "    maxima[diff == 0] = 0\n",
    "\n",
    "    # Isolating beads from the mask\n",
    "    print(\"Bead Mask labeling\")\n",
    "    labeled, num_objects = ndimage.label(maxima)\n",
    "    slices = ndimage.find_objects(labeled)\n",
    "    x, y, z = [], [], []\n",
    "    for dz,dy,dx in slices:\n",
    "        z_center = (dz.start + dz.stop - 1)/2\n",
    "        z.append(z_center)\n",
    "        x_center = (dx.start + dx.stop - 1)/2\n",
    "        x.append(x_center)\n",
    "        y_center = (dy.start + dy.stop - 1)/2    \n",
    "        y.append(y_center)\n",
    "    \n",
    "    return (z,y,x,num_objects)"
   ]
  },
  {
   "cell_type": "code",
   "execution_count": null,
   "metadata": {},
   "outputs": [],
   "source": [
    "# param : img:   3D numpy array, image\n",
    "#         pos:   2D numpy array, positions of all beads in n*[z,y,x] format\n",
    "#         title: String, title for the plot \n",
    "\n",
    "def visualizeBeadDetectionByMaxProjection(img,pos, title = \"Image\"):\n",
    "    z,y,x = pos[:,0],pos[:,1],pos[:,2]\n",
    "    plt.figure(figsize=(10,10))\n",
    "    plt.imshow((np.max(img,axis = 0)))\n",
    "    plt.axis('OFF')\n",
    "    plt.title(title)\n",
    "    for i,_ in enumerate(x):\n",
    "        plt.plot(x[i],y[i],'r.',alpha = 1)\n",
    "    plt.show()"
   ]
  },
  {
   "cell_type": "code",
   "execution_count": null,
   "metadata": {},
   "outputs": [],
   "source": [
    "# param: fileName: String, entire path with the filename \n",
    "#        rawImage: Boolean, if tiff file to be loaded or raw microscope image\n",
    "#        dimZ,dimY,dimX: int, the dimensions, required only for raw image\n",
    "\n",
    "def loadImage(fileName, rawImage = True, dimZ = 100, dimY = 512, dimX = 512):\n",
    "    if rawImage:\n",
    "        return (np.fromfile(fileName,dtype=np.dtype('<u2')).reshape((dimZ,dimY,dimX)))\n",
    "    else:\n",
    "        return tifffile.imread(fileName)"
   ]
  },
  {
   "cell_type": "code",
   "execution_count": 5,
   "metadata": {},
   "outputs": [],
   "source": [
    "# param: img:   3D numpy array, image\n",
    "#        limit: a tuple of 3 ints, extent to extract in the 3 dimension \n",
    "# .      n:     int, number of beads\n",
    "#        pos:   2D numpy array, positions of all beads in n*[z,y,x] format\n",
    "\n",
    "def extract1DSignalForAllBeadsInAll3Dims(img,limit,n,pos):\n",
    "    z,y,x = pos[:,0],pos[:,1],pos[:,2]\n",
    "    zrange,yrange,xrange = limit[0],limit[1],limit[2]\n",
    "    switcher = {\n",
    "        'z': [img[np.maximum(int(z[i])-(zrange//2),0):np.minimum(int(z[i])+(zrange//2),img.shape[0]),int(y[i]),int(x[i])].tolist() for i in range(n)],\n",
    "        'y': [img[int(z[i]),np.maximum(int(y[i])-(yrange//2),0):np.minimum(int(y[i])+(yrange//2),img.shape[1]),int(x[i])].tolist() for i in range(n)],\n",
    "        'x': [img[int(z[i]),int(y[i]),np.maximum(int(x[i])-(xrange//2),0):np.minimum(int(x[i])+(xrange//2),img.shape[2])].tolist() for i in range(n)],\n",
    "    } \n",
    "    ZSignal = switcher.get('z', \"Invalid Dimension\")\n",
    "    YSignal = switcher.get('y', \"Invalid Dimension\")\n",
    "    XSignal = switcher.get('x', \"Invalid Dimension\")\n",
    "    return (ZSignal,YSignal,XSignal)"
   ]
  },
  {
   "cell_type": "code",
   "execution_count": 6,
   "metadata": {},
   "outputs": [],
   "source": [
    "# param: x : int, independent variable\n",
    "#       amp: int/float, amplitude of the gaussian\n",
    "#       cen: int/float, center of the gaussian\n",
    "#       wid: int/float, width of the gaussian\n",
    "#       ydisp: int.float, background\n",
    "\n",
    "def gaussian(x, amp, cen, wid, ydisp):\n",
    "     return (amp * np.exp(-(x-cen)**2 / wid) + ydisp)\n",
    "    \n",
    "\n",
    "# param: img:   3D numpy array, image\n",
    "# .      n:     int, number of beads\n",
    "#        pos:   2D numpy array, positions of all beads in n*[z,y,x] format \n",
    "#        signal: list of numpy array, each member of the list is a bead. numpy ar\n",
    "#        insBead: 1D boolean array, if the detected bead is indeed a bead\n",
    "\n",
    "def fitForAllBeads(img, n, pos, signal,isBead):\n",
    "    numParams = 4\n",
    "    fitParam = np.zeros((n,numParams))\n",
    "    err = np.zeros((n,numParams))\n",
    "    \n",
    "    z,y,x = pos[:,0],pos[:,1],pos[:,2]\n",
    "\n",
    "    for beadNum in range(n):\n",
    "        #print(beadNum)\n",
    "        initialVals = [img[int(z[beadNum]),int(y[beadNum]),int(x[beadNum])], len(signal[beadNum])//2, len(signal[beadNum])//2, np.min(signal[beadNum])]  #[amp, cen, wid, ydisplacement]\n",
    "        try:\n",
    "            # curve_fit(model,x,y,initialValues)\n",
    "            bestVals, covar = curve_fit(gaussian, range(len(signal[beadNum])), signal[beadNum], p0=initialVals)\n",
    "            fitParam[beadNum] = bestVals\n",
    "        except:\n",
    "            isBead[beadNum] = 0\n",
    "            continue\n",
    "        err[beadNum] = np.sqrt(np.diag(covar))\n",
    "    return (fitParam.tolist(),err.tolist(),isBead)"
   ]
  },
  {
   "cell_type": "code",
   "execution_count": 7,
   "metadata": {},
   "outputs": [],
   "source": [
    "# param : isBead: 1D boolean array, if the detected bead is indeed a bead\n",
    "#         param: 2D numpy array, (n*m) where n is number of beads and m is number of paramenters for fitting\n",
    "#         err: 2D numpy array, (n*m) where n is number of beads and m is error number in each parameter fitting\n",
    "#         widthThreshold: int, threshold for maximum width of the gaussian that is fitted\n",
    "\n",
    "def checkTheFitOfBead(isBead, param, err, limit):\n",
    "    for beadNum in range(isBead.shape[0]):\n",
    "        if np.any(np.isinf(err[beadNum])): # Very high variance in any parameter of fitting cannot be a bead\n",
    "            isBead[beadNum] = 0\n",
    "            continue\n",
    "        if param[beadNum][0] <= 0: # Inverted Gaussian cannot be a bead\n",
    "            isBead[beadNum] = 0\n",
    "            continue\n",
    "        if err[beadNum][2] > limit: # Large variance in the width of the bead, typically greater than the window size \n",
    "            isBead[beadNum] = 0\n",
    "            continue      \n",
    "    return isBead"
   ]
  },
  {
   "cell_type": "code",
   "execution_count": 8,
   "metadata": {},
   "outputs": [],
   "source": [
    "def visualizeProfileOfBeads(img, isBead, zLimit, yLimit, xLimit, pos, ZSignal, YSignal, XSignal, ZParam, YParam, XParam, deleted = 0):\n",
    "    z,y,x = pos[:,0],pos[:,1],pos[:,2]\n",
    "    for beadNum in range(len(isBead)):\n",
    "        if isBead[beadNum]== deleted:\n",
    "            plt.figure(figsize = (10,3))\n",
    "            plt.subplot(1,5,1)\n",
    "            plt.plot(ZSignal[beadNum])\n",
    "            plt.yticks([])\n",
    "            plotx = np.linspace(0, len(ZSignal[beadNum]), 101)\n",
    "            ploty = gaussian(plotx, ZParam[beadNum][0], ZParam[beadNum][1], ZParam[beadNum][2], ZParam[beadNum][3])\n",
    "            plt.plot(plotx,ploty)\n",
    "            plt.title(\"Z Profile\")\n",
    "            plt.subplot(1,5,2)\n",
    "            plt.plot(YSignal[beadNum])\n",
    "            plt.yticks([])\n",
    "            plotx = np.linspace(0, len(YSignal[beadNum]), 101)\n",
    "            ploty = gaussian(plotx, YParam[beadNum][0], YParam[beadNum][1], YParam[beadNum][2], YParam[beadNum][3])\n",
    "            plt.plot(plotx,ploty)\n",
    "            plt.title(\"Y Profile\")\n",
    "            plt.subplot(1,5,3)\n",
    "            plt.plot(XSignal[beadNum])\n",
    "            plt.yticks([])\n",
    "            plotx = np.linspace(0, len(XSignal[beadNum]), 101)\n",
    "            ploty = gaussian(plotx, XParam[beadNum][0], XParam[beadNum][1], XParam[beadNum][2], XParam[beadNum][3])\n",
    "            plt.plot(plotx,ploty)\n",
    "            plt.title(\"X Profile\")\n",
    "            plt.subplot(1,5,4)\n",
    "            plt.imshow(img[np.maximum(int(z[beadNum])-(zLimit//2),0):np.minimum(int(z[beadNum])+(zLimit//2),img.shape[1]),\n",
    "                    int(y[beadNum]),   \n",
    "                    np.maximum(int(x[beadNum])-(xLimit//2),0):np.minimum(int(x[beadNum])+(xLimit//2),img.shape[2])])\n",
    "            plt.yticks([])\n",
    "            plt.axvline(x[beadNum]-np.maximum(int(x[beadNum])-(xLimit//2),0), color='r', linestyle='--',linewidth = 1)\n",
    "            plt.title(\"ZX Plane\")\n",
    "            plt.subplot(1,5,5)\n",
    "            plt.imshow(img[int(z[beadNum]),\n",
    "                   np.maximum(int(y[beadNum])-(yLimit//2),0):np.minimum(int(y[beadNum])+(yLimit//2),img.shape[1]),\n",
    "                    np.maximum(int(x[beadNum])-(xLimit//2),0):np.minimum(int(x[beadNum])+(xLimit//2),img.shape[2])])\n",
    "            plt.yticks([])\n",
    "            plt.axhline(y[beadNum]-np.maximum(int(y[beadNum])-(yLimit//2),0), color='r', linestyle='--',linewidth = 1)\n",
    "            plt.axvline(x[beadNum]-np.maximum(int(x[beadNum])-(xLimit//2),0), color='r', linestyle='--',linewidth = 1)\n",
    "            plt.title(\"XY Plane\")\n",
    "            plt.show()\n",
    "        "
   ]
  },
  {
   "cell_type": "code",
   "execution_count": 9,
   "metadata": {},
   "outputs": [],
   "source": [
    "# param : isBead: 1D boolean array, if the detected bead is indeed a bead\n",
    "#         param: 2D numpy array, (n*m) where n is number of beads and m is number of paramenters for fitting\n",
    "#         err: 2D numpy array, (n*m) where n is number of beads and m is error number in each parameter fitting\n",
    "#         n: int, number of beads\n",
    "#         pos: 2D numpy array, (n*m) n = number of beads, m= 3 for x,y,z\n",
    "\n",
    "def deleteBeads(isBead, param, err, n, pos):\n",
    "    param1 = []\n",
    "    err1 = []\n",
    "    pos1 = []\n",
    "    for beadNum in range(n):\n",
    "        #print(beadNum)\n",
    "        if isBead[beadNum]:\n",
    "            param1.append(param[beadNum])\n",
    "            err1.append(err[beadNum])\n",
    "            pos1.append(pos[beadNum])\n",
    "    return (param1,err1,pos1)\n",
    "\n"
   ]
  },
  {
   "cell_type": "code",
   "execution_count": 10,
   "metadata": {},
   "outputs": [],
   "source": [
    "def visualizeSizesOfBeads(img,radius,x,y, title = \"Image\"):\n",
    "    mul = 70 \n",
    "    plt.figure(figsize=(16,6))\n",
    "    plt.suptitle(title)\n",
    "    plt.subplot(1,2,1)\n",
    "    plt.imshow(np.log(np.max(img,axis = 0)))\n",
    "    plt.axis('OFF')\n",
    "    cm = plt.cm.get_cmap('jet')\n",
    "    sc=plt.scatter(x,y,c=radius, s=radius*mul,cmap = cm)\n",
    "    plt.colorbar(sc)\n",
    "    plt.subplot(1,2,2)\n",
    "    plt.ylim(0,img.shape[1])\n",
    "    plt.xlim(0,img.shape[2])\n",
    "    sc=plt.scatter(x,y,c=radius, s=radius*mul,cmap = cm)\n",
    "    cbar = plt.colorbar()\n",
    "    cbar.set_label('Normalized radius', rotation=270, size = 15)\n",
    "    plt.xticks([])\n",
    "    plt.yticks([])\n",
    "    plt.gca().invert_yaxis()\n",
    "    plt.show"
   ]
  },
  {
   "cell_type": "code",
   "execution_count": 11,
   "metadata": {},
   "outputs": [],
   "source": [
    "def visualizeWellFittedBeads(isBead, ZParam, YParam, Xparam, ZSignal, YSignal, XSignal, zLimit, yLimit, xLimit, pos):\n",
    "    z,y,x = pos[:,0],pos[:,1],pos[:,2]\n",
    "    for beadNum in range(len(isBead)):\n",
    "        if isBead[beadNum]:\n",
    "            plt.figure(figsize = (6.5,2))\n",
    "            plt.subplot(1,3,1)\n",
    "            plt.plot(XSignal[beadNum])\n",
    "            plt.plot()\n",
    "            plt.yticks([])\n",
    "            plotx = np.linspace(0, len(XSignal[beadNum]), 101)\n",
    "            ploty = gaussian(plotx, XParam[beadNum,0], XParam[beadNum,1], XParam[beadNum,2], XParam[beadNum,3])\n",
    "            plt.plot(plotx,ploty)\n",
    "            plt.title(\"Horizontal Line Profile\")\n",
    "            plt.subplot(1,3,2)\n",
    "            plt.imshow(img[int(z[beadNum]),\n",
    "                   np.maximum(int(y[beadNum])-(yLimit//2),0):np.minimum(int(y[beadNum])+(yLimit//2),img.shape[1]),\n",
    "                    np.maximum(int(x[beadNum])-(xLimit//2),0):np.minimum(int(x[beadNum])+(xLimit//2),img.shape[2])])\n",
    "            plt.yticks([])\n",
    "            plt.axhline(y[beadNum]-np.maximum(int(y[beadNum])-(yLimit//2),0), color='r', linestyle='--',linewidth = 1)\n",
    "            plt.axvline(x[beadNum]-np.maximum(int(x[beadNum])-(xLimit//2),0), color='r', linestyle='--',linewidth = 1)\n",
    "            plt.title(\"XY plane\")\n",
    "            plt.subplot(1,3,3)\n",
    "            plt.plot(YSignal[beadNum])\n",
    "            plt.plot()\n",
    "            plt.yticks([])\n",
    "            _plotx = np.linspace(0, len(YSignal[beadNum]), 101)\n",
    "            _ploty = gaussian(_plotx, YParam[beadNum,0], YParam[beadNum,1], YParam[beadNum,2], YParam[beadNum,3])\n",
    "            plt.plot(_plotx,_ploty)\n",
    "            plt.title(\"Vertical Line Profile\")\n",
    "        \n",
    "            #print(XErr[i])\n",
    "            plt.show()"
   ]
  },
  {
   "cell_type": "code",
   "execution_count": 12,
   "metadata": {},
   "outputs": [],
   "source": [
    "def visualizeWellFittedBeadsZProfile(isBead, ZSignal, ZParam, zLimit, yLimit, xLimit):\n",
    "    for beadNum in range(len(isBead)):\n",
    "        if isBead[beadNum]:\n",
    "            plt.figure(figsize = (4.5,2))\n",
    "            plt.subplot(1,2,1)\n",
    "            plt.plot(ZSignal[beadNum])\n",
    "            plt.plot()\n",
    "            plt.yticks([])\n",
    "            plotx = np.linspace(0, len(ZSignal[beadNum]), 101)\n",
    "            ploty = gaussian(plotx, ZParam[beadNum,0], ZParam[beadNum,1], ZParam[beadNum,2], ZParam[beadNum,3])\n",
    "            plt.plot(plotx,ploty)\n",
    "            plt.title(\"Z Profile\")\n",
    "            plt.subplot(1,2,2)\n",
    "            plt.imshow(img[np.maximum(int(z[beadNum])-(zLimit//2),0):np.minimum(int(z[beadNum])+(zLimit//2),img.shape[0]),\n",
    "                    int(y[beadNum]),   \n",
    "                    np.maximum(int(x[beadNum])-(xLimit//2),0):np.minimum(int(x[beadNum])+(xLimit//2),img.shape[2])])\n",
    "            plt.yticks([])\n",
    "            plt.axvline(x[beadNum]-np.maximum(int(x[beadNum])-(xLimit//2),0), color='r', linestyle='--',linewidth = 1)\n",
    "            plt.title(\"ZX Plane\")\n",
    "            plt.show()"
   ]
  },
  {
   "cell_type": "code",
   "execution_count": 13,
   "metadata": {},
   "outputs": [],
   "source": [
    "def visualizeDeletedBeadsZProfile(isBead, ZSignal, ZParam, zLimit, yLimit, xLimit):\n",
    "    for beadNum in range(len(isBead)):\n",
    "        if isBead[beadNum]==0:\n",
    "            plt.figure(figsize = (4.5,2))\n",
    "            plt.subplot(1,2,1)\n",
    "            plt.plot(ZSignal[beadNum])\n",
    "            plt.plot()\n",
    "            plt.yticks([])\n",
    "            plotx = np.linspace(0, len(ZSignal[beadNum]), 101)\n",
    "            ploty = gaussian(plotx, ZParam[beadNum,0], ZParam[beadNum,1], ZParam[beadNum,2], ZParam[beadNum,3])\n",
    "            plt.plot(plotx,ploty)\n",
    "            plt.title(\"Z Profile\")\n",
    "            plt.subplot(1,2,2)\n",
    "            plt.imshow(img[np.maximum(int(z[beadNum])-(zLimit//2),0):np.minimum(int(z[beadNum])+(zLimit//2),img.shape[0]),\n",
    "                    int(y[beadNum]),   \n",
    "                    np.maximum(int(x[beadNum])-(xLimit//2),0):np.minimum(int(x[beadNum])+(xLimit//2),img.shape[2])])\n",
    "            plt.yticks([])\n",
    "            plt.axvline(x[beadNum]-np.maximum(int(x[beadNum])-(xLimit//2),0), color='r', linestyle='--',linewidth = 1)\n",
    "            plt.title(\"ZX Plane\")\n",
    "            plt.show()"
   ]
  },
  {
   "cell_type": "code",
   "execution_count": 14,
   "metadata": {},
   "outputs": [],
   "source": [
    "def visaulizeBeads(img,z,y,x,zLimit,yLimit,xLimit):\n",
    "    plt.subplot(1,3,1)\n",
    "    plt.title(\"XY Profile\")\n",
    "    plt.imshow(img[int(z),\n",
    "                   np.maximum(int(y)-(yLimit//2),0):np.minimum(int(y)+(yLimit//2),img.shape[1]),\n",
    "                   np.maximum(int(x)-(xLimit//2),0):np.minimum(int(x)+(xLimit//2),img.shape[2])])\n",
    "    plt.subplot(1,3,2)\n",
    "    plt.title(\"ZX Profile\")\n",
    "    plt.imshow(img[np.maximum(int(z)-(zLimit//2),0):np.minimum(int(z)+(zLimit//2),img.shape[0]),\n",
    "                    int(y),   \n",
    "                    np.maximum(int(x)-(xLimit//2),0):np.minimum(int(x)+(xLimit//2),img.shape[2])])\n",
    "    plt.subplot(1,3,3)\n",
    "    plt.title(\"ZY Profile\")\n",
    "    plt.imshow(img[np.maximum(int(z)-(zLimit//2),0):np.minimum(int(z)+(zLimit//2),img.shape[0]),\n",
    "                    np.maximum(int(y)-(yLimit//2),0):np.minimum(int(y)+(yLimit//2),img.shape[1]),\n",
    "                   int(x)])\n",
    "    plt.show()"
   ]
  },
  {
   "cell_type": "markdown",
   "metadata": {},
   "source": [
    "# Processing Images"
   ]
  },
  {
   "cell_type": "markdown",
   "metadata": {},
   "source": [
    "### Folder path and mode of operation"
   ]
  },
  {
   "cell_type": "code",
   "execution_count": 15,
   "metadata": {},
   "outputs": [],
   "source": [
    "# Input cell\n",
    "\n",
    "folder = \"D://Data//2018-09-07-12-59-48-33-RandomZernikeAstigmationBeads//stacks//C0L0\"\n",
    "ext = \".raw\" \n",
    "parameterSettingmode = False; #the mode of operation. When you are setting the parameters make it True. \n",
    "                             #When you want to process all images in a folder make it false"
   ]
  },
  {
   "cell_type": "code",
   "execution_count": 16,
   "metadata": {},
   "outputs": [
    {
     "name": "stdout",
     "output_type": "stream",
     "text": [
      "Got these files from the folder\n",
      "D://Data//2018-09-07-12-59-48-33-RandomZernikeAstigmationBeads//stacks//C0L0\\000000.raw\n",
      "D://Data//2018-09-07-12-59-48-33-RandomZernikeAstigmationBeads//stacks//C0L0\\000001.raw\n",
      "D://Data//2018-09-07-12-59-48-33-RandomZernikeAstigmationBeads//stacks//C0L0\\000002.raw\n",
      "D://Data//2018-09-07-12-59-48-33-RandomZernikeAstigmationBeads//stacks//C0L0\\000003.raw\n",
      "D://Data//2018-09-07-12-59-48-33-RandomZernikeAstigmationBeads//stacks//C0L0\\000004.raw\n",
      "D://Data//2018-09-07-12-59-48-33-RandomZernikeAstigmationBeads//stacks//C0L0\\000005.raw\n",
      "D://Data//2018-09-07-12-59-48-33-RandomZernikeAstigmationBeads//stacks//C0L0\\000006.raw\n",
      "D://Data//2018-09-07-12-59-48-33-RandomZernikeAstigmationBeads//stacks//C0L0\\000007.raw\n",
      "D://Data//2018-09-07-12-59-48-33-RandomZernikeAstigmationBeads//stacks//C0L0\\000008.raw\n",
      "D://Data//2018-09-07-12-59-48-33-RandomZernikeAstigmationBeads//stacks//C0L0\\000009.raw\n",
      "\n",
      "We are in folder processing mode:  working on all the images in the folder\n"
     ]
    }
   ],
   "source": [
    "# Output cell\n",
    "\n",
    "files = glob.glob(folder + \"///*\" + ext)  #Check that you hvae got all the files\n",
    "print(\"Got these files from the folder\")\n",
    "print ('\\n'.join(files)) #Check that you hvae got all the files\n",
    "\n",
    "if parameterSettingmode:\n",
    "    numberOfImages = 1\n",
    "    print(\"\\nWe are in parameter setting mode:  working on the first image file\")\n",
    "else:\n",
    "    numberOfImages = len(files)\n",
    "    print(\"\\nWe are in folder processing mode:  working on all the images in the folder\")"
   ]
  },
  {
   "cell_type": "markdown",
   "metadata": {},
   "source": [
    "### Raw or Tiff images"
   ]
  },
  {
   "cell_type": "code",
   "execution_count": null,
   "metadata": {},
   "outputs": [],
   "source": [
    "# Input cell\n",
    "\n",
    "isFileTypeRaw = True; \n",
    "\n",
    "#Change these numbers only if isFileTypeRaw: True\n",
    "zdim = 401\n",
    "ydim = 1024\n",
    "xdim = 1024    "
   ]
  },
  {
   "cell_type": "code",
   "execution_count": null,
   "metadata": {},
   "outputs": [],
   "source": [
    "# Output cell\n",
    "\n",
    "img = [[]]*numberOfImages;\n",
    "for i in range(numberOfImages):\n",
    "    img[i] = loadImage(files[i],isFileTypeRaw,401,1024,1024)\n",
    "img = np.array(img)\n",
    "print(\"(Number of images, Z, Y, X) : %s\"%(img.shape,))"
   ]
  },
  {
   "cell_type": "markdown",
   "metadata": {},
   "source": [
    "### Gaussian smoothening"
   ]
  },
  {
   "cell_type": "code",
   "execution_count": null,
   "metadata": {},
   "outputs": [],
   "source": [
    "# Input Cell\n",
    "\n",
    "gaussianFilterSize = 2"
   ]
  },
  {
   "cell_type": "code",
   "execution_count": null,
   "metadata": {},
   "outputs": [],
   "source": [
    "# Output Cell\n",
    "\n",
    "gImg = [filters.gaussian_filter(i,gaussianFilterSize) for i in img]\n",
    "\n",
    "if(parameterSettingmode):\n",
    "    plt.figure(figsize=(7,7))\n",
    "    plt.subplot(1,2,1)\n",
    "    plt.imshow(np.max(img[0],0))\n",
    "    plt.title(\"Original Image\")\n",
    "    plt.subplot(1,2,2)\n",
    "    plt.imshow(np.max(gImg[0],0))\n",
    "    plt.title(\"Gaussina Filtered Image\")"
   ]
  },
  {
   "cell_type": "markdown",
   "metadata": {},
   "source": [
    "### Object detection parameters"
   ]
  },
  {
   "cell_type": "code",
   "execution_count": null,
   "metadata": {},
   "outputs": [],
   "source": [
    "# Input Cell\n",
    "\n",
    "#For beads in agarose\n",
    "threshold=20 # Thresholding difference between background and foreground that determines to be a bead\n",
    "neighborhood_size=(10,10,10) # Kernel size for maxima and minima filter\n",
    "\n",
    "# For Droso uNS image\n",
    "#threshold=2000\n",
    "#neighborhood_size=(50,30,30)"
   ]
  },
  {
   "cell_type": "code",
   "execution_count": null,
   "metadata": {},
   "outputs": [],
   "source": [
    "# Output Cell\n",
    "\n",
    "isBead = [[]]*numberOfImages;\n",
    "detectedBeadPos = [[]]*numberOfImages;\n",
    "z,y,x,n = [[]]*numberOfImages,[[]]*numberOfImages,[[]]*numberOfImages,[[]]*numberOfImages\n",
    "print(\"Detecting all objects that can qualify as beads\")\n",
    "for imageNumber in range(numberOfImages):\n",
    "    (z[imageNumber],y[imageNumber],x[imageNumber],n[imageNumber]) = detectBeads(gImg[imageNumber],threshold=20,neighborhood_size=(10,10,10))\n",
    "    isBead[imageNumber] = np.ones((n[imageNumber])) # will contain information about the detected beads that actually qualify as beads\n",
    "    detectedBeadPos[imageNumber] = np.array([(z[imageNumber][i],y[imageNumber][i],x[imageNumber][i]) \n",
    "                                             for i in range(n[imageNumber]) if isBead[imageNumber][i]])\n",
    "\n",
    "if parameterSettingmode:\n",
    "    print(\"Detected %d objects that can qualify as beads\"%n[imageNumber])\n",
    "    visualizeBeadDetectionByMaxProjection(img[0],detectedBeadPos[0],\"2D max projection of centroids of detected bead like objects on embryo\")"
   ]
  },
  {
   "cell_type": "markdown",
   "metadata": {},
   "source": [
    "### Range of signal extraction"
   ]
  },
  {
   "cell_type": "code",
   "execution_count": null,
   "metadata": {},
   "outputs": [],
   "source": [
    "# Input cell\n",
    "\n",
    "zLimit,yLimit,xLimit = 100,64,64 #The range for extracting 1D signal along respective axis"
   ]
  },
  {
   "cell_type": "code",
   "execution_count": null,
   "metadata": {},
   "outputs": [],
   "source": [
    "# Output Cell\n",
    "\n",
    "print(\"Extracting 1D signals along x, y and z axis\")\n",
    "\n",
    "ZSignal,YSignal,XSignal = [[[]]]*numberOfImages,[[[]]]*numberOfImages,[[[]]]*numberOfImages\n",
    "\n",
    "for imageNumber in range(numberOfImages):\n",
    "    ZSignal[imageNumber],YSignal[imageNumber],XSignal[imageNumber] = extract1DSignalForAllBeadsInAll3Dims(gImg[imageNumber],(zLimit,yLimit,xLimit),n[imageNumber],detectedBeadPos[imageNumber])\n",
    "\n",
    "    \n",
    "if parameterSettingmode:\n",
    "    beadNum = 0\n",
    "    plt.subplot(1,3,1)\n",
    "    plt.plot(XSignal[imageNumber][beadNum])\n",
    "    plt.title(\"X Profile\")\n",
    "    plt.subplot(1,3,2)\n",
    "    plt.plot(YSignal[imageNumber][beadNum])\n",
    "    plt.title(\"Y Profile\")\n",
    "    plt.subplot(1,3,3)\n",
    "    plt.plot(ZSignal[imageNumber][beadNum])\n",
    "    plt.title(\"Z Profile\")\n",
    "    plt.show()\n",
    "    visaulizeBeads(img[imageNumber], detectedBeadPos[imageNumber][beadNum,0],detectedBeadPos[imageNumber][beadNum,1],\n",
    "                   detectedBeadPos[imageNumber][beadNum,2],zLimit=zLimit, yLimit=yLimit, xLimit=xLimit)"
   ]
  },
  {
   "cell_type": "markdown",
   "metadata": {},
   "source": [
    "### Tolerance in fitting for object to be abead"
   ]
  },
  {
   "cell_type": "code",
   "execution_count": null,
   "metadata": {},
   "outputs": [],
   "source": [
    "# Input Cell\n",
    "\n",
    "errorInZWidthFitting = zLimit\n",
    "errorInYWidthFitting = yLimit/4\n",
    "errorInXWidthFitting = xLimit/4"
   ]
  },
  {
   "cell_type": "code",
   "execution_count": null,
   "metadata": {},
   "outputs": [],
   "source": [
    "# Output cell\n",
    "\n",
    "#Gaussian fitting of signal from propbable beads in all 3 dimensions\n",
    "ZParam, YParam, XParam = [[[]]]*numberOfImages,[[[]]]*numberOfImages,[[[]]]*numberOfImages\n",
    "ZErr, YErr, XErr = [[[]]]*numberOfImages,[[[]]]*numberOfImages,[[[]]]*numberOfImages\n",
    "\n",
    "for imageNumber in range(numberOfImages):\n",
    "    ZParam[imageNumber],ZErr[imageNumber],isBead[imageNumber] = fitForAllBeads(img[imageNumber],n[imageNumber],detectedBeadPos[imageNumber],ZSignal[imageNumber],isBead[imageNumber])\n",
    "    YParam[imageNumber],YErr[imageNumber],isBead[imageNumber] = fitForAllBeads(img[imageNumber],n[imageNumber],detectedBeadPos[imageNumber],YSignal[imageNumber],isBead[imageNumber])\n",
    "    XParam[imageNumber],XErr[imageNumber],isBead[imageNumber] = fitForAllBeads(img[imageNumber],n[imageNumber],detectedBeadPos[imageNumber],XSignal[imageNumber],isBead[imageNumber])\n",
    "\n",
    "    #\"Checking which of the detected objects qaulify as beads\n",
    "    isBead[imageNumber] = checkTheFitOfBead(isBead[imageNumber], ZParam[imageNumber], ZErr[imageNumber], errorInZWidthFitting)\n",
    "    isBead[imageNumber] = checkTheFitOfBead(isBead[imageNumber], YParam[imageNumber], YErr[imageNumber], errorInYWidthFitting)\n",
    "    isBead[imageNumber] = checkTheFitOfBead(isBead[imageNumber], XParam[imageNumber], XErr[imageNumber], errorInXWidthFitting)\n",
    "\n",
    "    # Visulaize Deleted Beads\n",
    "    if parameterSettingmode:\n",
    "        print(\"These beads are being deleted\")\n",
    "        visualizeProfileOfBeads(img[imageNumber],isBead[imageNumber],\n",
    "                          zLimit,yLimit,xLimit,detectedBeadPos[imageNumber],ZSignal[imageNumber],YSignal[imageNumber],\n",
    "                          XSignal[imageNumber],ZParam[imageNumber],YParam[imageNumber],XParam[imageNumber],0)"
   ]
  },
  {
   "cell_type": "code",
   "execution_count": null,
   "metadata": {},
   "outputs": [],
   "source": [
    "# Output cell\n",
    "\n",
    "#Visulaize Well fitted Beads\n",
    "imageNum = 0\n",
    "if parameterSettingmode:\n",
    "    print(\"These beads are well fitted\")\n",
    "    visualizeProfileOfBeads(img[imageNumber],isBead[imageNumber],\n",
    "                          zLimit,yLimit,xLimit,detectedBeadPos[imageNumber],ZSignal[imageNumber],YSignal[imageNumber],\n",
    "                          XSignal[imageNumber],ZParam[imageNumber],YParam[imageNumber],XParam[imageNumber],1)"
   ]
  },
  {
   "cell_type": "code",
   "execution_count": null,
   "metadata": {},
   "outputs": [],
   "source": [
    "# Output Cell\n",
    "\n",
    "beadPos = [[]]*numberOfImages;\n",
    "print(\"Deleting information about objects not qualified as beads\")\n",
    "for imageNumber in range(numberOfImages):\n",
    "    ZParam[imageNumber],ZErr[imageNumber],z[imageNumber] = deleteBeads(isBead[imageNumber], ZParam[imageNumber], ZErr[imageNumber], n[imageNumber], z[imageNumber])\n",
    "    YParam[imageNumber],YErr[imageNumber],y[imageNumber] = deleteBeads(isBead[imageNumber], YParam[imageNumber], YErr[imageNumber], n[imageNumber], y[imageNumber])\n",
    "    XParam[imageNumber],XErr[imageNumber],x[imageNumber] = deleteBeads(isBead[imageNumber], XParam[imageNumber], XErr[imageNumber], n[imageNumber], x[imageNumber])\n",
    "\n",
    "\n",
    "\n",
    "    assert(len(z[imageNumber]) == len (y[imageNumber]) == len(x[imageNumber]) == len(ZParam[imageNumber]) == len(YParam[imageNumber]) \n",
    "           == len(XParam[imageNumber]) == len(ZErr[imageNumber]) == len(YErr[imageNumber]) == len(XErr[imageNumber]))\n",
    "\n",
    "    n[imageNumber] = len(z[imageNumber])\n",
    "    isBead[imageNumber] = np.ones(n[imageNumber])\n",
    "    beadPos[imageNumber] = np.array([(z[imageNumber][i],y[imageNumber][i],x[imageNumber][i]) \n",
    "                                             for i in range(n[imageNumber]) if isBead[imageNumber][i]])\n",
    "\n",
    "imageNum = 0\n",
    "if parameterSettingmode:\n",
    "    visualizeBeadDetectionByMaxProjection(img[imageNum],beadPos[imageNum], \"2D max projection of centroids of well fitted beads on embryo\")"
   ]
  },
  {
   "cell_type": "code",
   "execution_count": null,
   "metadata": {},
   "outputs": [],
   "source": [
    "# Visulaize Size of beads\n",
    "\n",
    "imageNum = 0\n",
    "if parameterSettingmode:\n",
    "    zWidth = (np.array(ZParam[imageNum])[:,2] - np.min(np.array(ZParam[imageNum])[:,2]))/(np.max(np.array(ZParam[imageNum])[:,2]) - np.min(np.array(ZParam[imageNum])[:,2]))\n",
    "    yWidth = (np.array(YParam[imageNum])[:,2] - np.min(np.array(YParam[imageNum])[:,2]))/(np.max(np.array(YParam[imageNum])[:,2]) - np.min(np.array(YParam[imageNum])[:,2]))\n",
    "    xWidth = (np.array(XParam[imageNum])[:,2] - np.min(np.array(XParam[imageNum])[:,2]))/(np.max(np.array(XParam[imageNum])[:,2]) - np.min(np.array(XParam[imageNum])[:,2]))\n",
    "    xyRadius = np.sqrt(np.square(xWidth) + np.square(yWidth))\n",
    "    xyRadius = (xyRadius - np.min(xyRadius))/(np.max(xyRadius) - np.min(xyRadius))\n",
    "    #visualizeSizesOfBeads(img,zWidth,x,y,\"Width of gaussian along Z axis\")\n",
    "    #visualizeSizesOfBeads(img,yWidth,x,y,\"Width of gaussian along Y axis\")\n",
    "    #visualizeSizesOfBeads(img,xWidth,x,y,\"Width of gaussian along X axis\")\n",
    "    visualizeSizesOfBeads(img[imageNum],xyRadius,x[imageNum],y[imageNum], \"Radius of beads calculated from width of gaussian in XY plane\")"
   ]
  },
  {
   "cell_type": "code",
   "execution_count": null,
   "metadata": {},
   "outputs": [],
   "source": [
    "# Writing csv files to directory\n",
    "\n",
    "if not parameterSettingmode:\n",
    "    if not os.path.exists(folder + \"\\\\Analysis\"):\n",
    "        os.makedirs(folder + \"\\\\Analysis\")\n",
    "\n",
    "    \n",
    "    for imageNum in range(numberOfImages):\n",
    "        f = open(folder + \"\\\\Analysis\\\\ZParam%d.csv\"%imageNum,'w')\n",
    "        np.savetxt(f, ZParam[imageNum], delimiter=\",\")\n",
    "        f.close()\n",
    "        f = open(folder + \"\\\\Analysis\\\\YParam%d.csv\"%imageNum,'w')\n",
    "        np.savetxt(f, YParam[imageNum], delimiter=\",\")\n",
    "        f.close()\n",
    "        f = open(folder + \"\\\\Analysis\\\\XParam%d.csv\"%imageNum,'w')\n",
    "        np.savetxt(f, XParam[imageNum], delimiter=\",\")\n",
    "        f.close()"
   ]
  }
 ],
 "metadata": {
  "celltoolbar": "Raw Cell Format",
  "kernelspec": {
   "display_name": "Python 3",
   "language": "python",
   "name": "python3"
  },
  "language_info": {
   "codemirror_mode": {
    "name": "ipython",
    "version": 3
   },
   "file_extension": ".py",
   "mimetype": "text/x-python",
   "name": "python",
   "nbconvert_exporter": "python",
   "pygments_lexer": "ipython3",
   "version": "3.6.5"
  }
 },
 "nbformat": 4,
 "nbformat_minor": 2
}
