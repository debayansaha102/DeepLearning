{
 "cells": [
  {
   "cell_type": "code",
   "execution_count": 19,
   "metadata": {},
   "outputs": [],
   "source": [
    "import numpy as np\n",
    "import tifffile\n",
    "import matplotlib.pyplot as plt\n",
    "import os\n",
    "import glob\n",
    "import keras\n",
    "from keras.utils import np_utils\n",
    "from keras.models import Model\n",
    "from keras.layers import *\n",
    "from keras.optimizers import Adam"
   ]
  },
  {
   "cell_type": "raw",
   "metadata": {},
   "source": [
    "# Images are in format (Z,Y,X)"
   ]
  },
  {
   "cell_type": "code",
   "execution_count": 20,
   "metadata": {},
   "outputs": [],
   "source": [
    "folder = \"D:\\BScope\\\\SequentialBeads\\\\stacks\\\\TrainingData\\\\MaxProjection\\\\\""
   ]
  },
  {
   "cell_type": "code",
   "execution_count": 25,
   "metadata": {},
   "outputs": [],
   "source": [
    "def onehot_encode(arr):\n",
    "    \n",
    "    uniques, ids = np.unique(arr, return_inverse=True)\n",
    "    return np_utils.to_categorical(ids, len(uniques))"
   ]
  },
  {
   "cell_type": "code",
   "execution_count": 27,
   "metadata": {},
   "outputs": [
    {
     "name": "stdout",
     "output_type": "stream",
     "text": [
      "ObliqueAstigmationMaxProjection → [1,0]\n",
      "VerticalAstigmationMaxProjection → [0,1]\n"
     ]
    }
   ],
   "source": [
    "# Label encoding\n",
    "classes = os.listdir(folder)\n",
    "onehot = onehot_encode(classes)\n",
    "\n",
    "for i,c in enumerate(classes):\n",
    "    print('%10s → [%d,%d]' % (c, onehot[i,0], onehot[i,1]))"
   ]
  },
  {
   "cell_type": "code",
   "execution_count": 28,
   "metadata": {},
   "outputs": [
    {
     "name": "stdout",
     "output_type": "stream",
     "text": [
      "D:\\BScope\\SequentialBeads\\stacks\\TrainingData\\MaxProjection\\ObliqueAstigmationMaxProjection\\*.tif\n",
      "D:\\BScope\\SequentialBeads\\stacks\\TrainingData\\MaxProjection\\VerticalAstigmationMaxProjection\\*.tif\n"
     ]
    }
   ],
   "source": [
    "# Loading DataSet\n",
    "imageData = list();\n",
    "modes = list();\n",
    "subDir = os.listdir(folder)\n",
    "\n",
    "for s in subDir:\n",
    "    print(folder+ s +\"\\\\*.tif\")\n",
    "    files  = glob.glob(folder+ s +\"\\\\*.tif\" )\n",
    "    for f in files:\n",
    "        imageData.append(tifffile.imread(f))\n",
    "        modes.append(s)"
   ]
  },
  {
   "cell_type": "code",
   "execution_count": 29,
   "metadata": {},
   "outputs": [],
   "source": [
    "# Normalization of the entrire stack\n",
    "def entireStackNormalization(stackImgData): \n",
    "    # Mean and std of entire stack\n",
    "    mean = np.mean(stackImgData)\n",
    "    std = np.std(stackImgData)\n",
    "    normalizedStackImgData = (stackImgData - mean) / std\n",
    "    return normalizedStackImgData"
   ]
  },
  {
   "cell_type": "code",
   "execution_count": 30,
   "metadata": {},
   "outputs": [],
   "source": [
    "# Normalization plane by plane\n",
    "def planeByPlaneStackNormalization(stackImgData):\n",
    "    # careful\n",
    "    mean = np.mean(stackImgData, axis = 0)\n",
    "    std = np.std(stackImgData, axis = 0)\n",
    "    normalizedStackImgData = np.array([(stackImgData[i] - mean[i]) / std[i] for i in range(0,np.shape(stackImgData)[0])])\n",
    "    return normalizedStackImgData"
   ]
  },
  {
   "cell_type": "code",
   "execution_count": 31,
   "metadata": {},
   "outputs": [],
   "source": [
    "X = np.array([entireStackNormalization(i) for i in imageData])\n",
    "modes = np.array(modes)"
   ]
  },
  {
   "cell_type": "code",
   "execution_count": 32,
   "metadata": {},
   "outputs": [],
   "source": [
    "X = np.array(imageData)\n",
    "Y = onehot_encode(modes)"
   ]
  },
  {
   "cell_type": "code",
   "execution_count": 33,
   "metadata": {},
   "outputs": [
    {
     "name": "stdout",
     "output_type": "stream",
     "text": [
      "(132, 64, 64) (132, 2)\n"
     ]
    }
   ],
   "source": [
    "print(X.shape,Y.shape)"
   ]
  },
  {
   "cell_type": "code",
   "execution_count": 34,
   "metadata": {},
   "outputs": [
    {
     "name": "stdout",
     "output_type": "stream",
     "text": [
      "(132, 64, 64, 1) (132, 2)\n"
     ]
    }
   ],
   "source": [
    "# data size for conv layer\n",
    "X_train = np.expand_dims(X,-1)\n",
    "print(X_train.shape,Y.shape)"
   ]
  },
  {
   "cell_type": "code",
   "execution_count": 38,
   "metadata": {},
   "outputs": [],
   "source": [
    "# CNN Model\n",
    "def get_model2():\n",
    "    inp = Input(       name='X',     shape=X_train.shape[1:])    \n",
    "    t   = Conv2D(32,   name='conv1', kernel_size=(3,3), activation='relu')(inp)\n",
    "    t   = Conv2D(32,   name='conv2', kernel_size=(3,3), activation='relu')(t)\n",
    "    t   = MaxPooling2D(name='pool1', pool_size=(2,2))(t)\n",
    "    #t   = Conv2D(32,   name='conv3', kernel_size=(3,3), activation='relu')(t)\n",
    "    t   = Conv2D(32,   name='conv4', kernel_size=(3,3), activation='relu')(t)\n",
    "    t   = MaxPooling2D(name='pool2', pool_size=(2,2))(t)\n",
    "    t   = Flatten(     name='flat')(t)\n",
    "    t   = Dense(64,   name='dense', activation='relu')(t)\n",
    "    oup = Dense(Y.shape[1],    name='Y', activation='softmax')(t)\n",
    "    model = Model(inp,oup)\n",
    "    model.compile(loss='categorical_crossentropy', metrics=['accuracy'], optimizer='adam')\n",
    "    return model"
   ]
  },
  {
   "cell_type": "code",
   "execution_count": 39,
   "metadata": {},
   "outputs": [
    {
     "name": "stdout",
     "output_type": "stream",
     "text": [
      "_________________________________________________________________\n",
      "Layer (type)                 Output Shape              Param #   \n",
      "=================================================================\n",
      "X (InputLayer)               (None, 64, 64, 1)         0         \n",
      "_________________________________________________________________\n",
      "conv1 (Conv2D)               (None, 62, 62, 32)        320       \n",
      "_________________________________________________________________\n",
      "conv2 (Conv2D)               (None, 60, 60, 32)        9248      \n",
      "_________________________________________________________________\n",
      "pool1 (MaxPooling2D)         (None, 30, 30, 32)        0         \n",
      "_________________________________________________________________\n",
      "conv4 (Conv2D)               (None, 28, 28, 32)        9248      \n",
      "_________________________________________________________________\n",
      "pool2 (MaxPooling2D)         (None, 14, 14, 32)        0         \n",
      "_________________________________________________________________\n",
      "flat (Flatten)               (None, 6272)              0         \n",
      "_________________________________________________________________\n",
      "dense (Dense)                (None, 64)                401472    \n",
      "_________________________________________________________________\n",
      "Y (Dense)                    (None, 2)                 130       \n",
      "=================================================================\n",
      "Total params: 420,418\n",
      "Trainable params: 420,418\n",
      "Non-trainable params: 0\n",
      "_________________________________________________________________\n"
     ]
    }
   ],
   "source": [
    "model = get_model2()\n",
    "model.summary()"
   ]
  },
  {
   "cell_type": "code",
   "execution_count": null,
   "metadata": {},
   "outputs": [
    {
     "name": "stdout",
     "output_type": "stream",
     "text": [
      "Train on 118 samples, validate on 14 samples\n",
      "Epoch 1/15\n",
      "118/118 [==============================] - 16s 136ms/step - loss: 7.1095 - acc: 0.4407 - val_loss: 16.1181 - val_acc: 0.0000e+00\n",
      "Epoch 2/15\n",
      "118/118 [==============================] - 15s 130ms/step - loss: 7.1029 - acc: 0.5593 - val_loss: 16.1181 - val_acc: 0.0000e+00\n",
      "Epoch 3/15\n",
      "118/118 [==============================] - 16s 134ms/step - loss: 7.1029 - acc: 0.5593 - val_loss: 16.1181 - val_acc: 0.0000e+00\n",
      "Epoch 4/15\n",
      "118/118 [==============================] - 16s 137ms/step - loss: 7.1029 - acc: 0.5593 - val_loss: 16.1181 - val_acc: 0.0000e+00\n",
      "Epoch 5/15\n",
      "118/118 [==============================] - 15s 129ms/step - loss: 7.1029 - acc: 0.5593 - val_loss: 16.1181 - val_acc: 0.0000e+00\n",
      "Epoch 6/15\n",
      "118/118 [==============================] - 15s 130ms/step - loss: 7.1029 - acc: 0.5593 - val_loss: 16.1181 - val_acc: 0.0000e+00\n",
      "Epoch 7/15\n",
      "118/118 [==============================] - 15s 129ms/step - loss: 7.1029 - acc: 0.5593 - val_loss: 16.1181 - val_acc: 0.0000e+00\n",
      "Epoch 8/15\n",
      "118/118 [==============================] - 16s 135ms/step - loss: 7.1029 - acc: 0.5593 - val_loss: 16.1181 - val_acc: 0.0000e+00\n",
      "Epoch 9/15\n",
      "118/118 [==============================] - 15s 129ms/step - loss: 7.1029 - acc: 0.5593 - val_loss: 16.1181 - val_acc: 0.0000e+00\n",
      "Epoch 10/15\n",
      "118/118 [==============================] - 15s 130ms/step - loss: 7.1029 - acc: 0.5593 - val_loss: 16.1181 - val_acc: 0.0000e+00\n",
      "Epoch 11/15\n",
      "118/118 [==============================] - 16s 132ms/step - loss: 7.1029 - acc: 0.5593 - val_loss: 16.1181 - val_acc: 0.0000e+00\n",
      "Epoch 12/15\n",
      "118/118 [==============================] - 14s 122ms/step - loss: 7.1029 - acc: 0.5593 - val_loss: 16.1181 - val_acc: 0.0000e+00\n",
      "Epoch 13/15\n"
     ]
    }
   ],
   "source": [
    "hist = model.fit(X_train,Y, batch_size=128, epochs=15,validation_split=0.1)"
   ]
  },
  {
   "cell_type": "code",
   "execution_count": null,
   "metadata": {},
   "outputs": [],
   "source": []
  },
  {
   "cell_type": "code",
   "execution_count": null,
   "metadata": {},
   "outputs": [],
   "source": []
  }
 ],
 "metadata": {
  "kernelspec": {
   "display_name": "Python 3",
   "language": "python",
   "name": "python3"
  }
 },
 "nbformat": 4,
 "nbformat_minor": 2
}
