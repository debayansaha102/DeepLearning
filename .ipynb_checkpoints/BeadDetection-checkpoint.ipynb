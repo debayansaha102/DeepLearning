{
 "cells": [
  {
   "cell_type": "code",
   "execution_count": 1,
   "metadata": {},
   "outputs": [],
   "source": [
    "import numpy as np\n",
    "import matplotlib.pyplot as plt\n",
    "import tifffile\n",
    "from scipy.ndimage.filters import gaussian_filter\n",
    "from skimage.measure import *\n",
    "from skimage.morphology import binary_erosion\n",
    "import glob\n",
    "%gui qt5"
   ]
  },
  {
   "cell_type": "code",
   "execution_count": 7,
   "metadata": {},
   "outputs": [],
   "source": [
    "folder = \"D://Data//2018-08-24-12-42-59-86-RandomZernike//stacks\"\n",
    "Zrange = 80\n",
    "XYrange = 64\n"
   ]
  },
  {
   "cell_type": "code",
   "execution_count": 9,
   "metadata": {},
   "outputs": [],
   "source": [
    "files = glob.glob(folder+\"//Images/*.tif\")\n",
    "zr = Zrange//2\n",
    "xy = XYrange//2"
   ]
  },
  {
   "cell_type": "code",
   "execution_count": 43,
   "metadata": {},
   "outputs": [],
   "source": [
    "timepoint = [f[f.rfind('\\\\')+1:f.find('.tif')] for f in files]"
   ]
  },
  {
   "cell_type": "code",
   "execution_count": null,
   "metadata": {},
   "outputs": [
    {
     "name": "stdout",
     "output_type": "stream",
     "text": [
      "(201, 1024, 1024)\n"
     ]
    }
   ],
   "source": [
    "for t,f in enumerate(files):\n",
    "    img = tifffile.imread(f)\n",
    "    print(img.shape)\n",
    "    img1 = gaussian_filter(img,4)\n",
    "    img1 = gaussian_filter(img,4)\n",
    "    mask = img1> np.percentile(img1,99.9)\n",
    "    img2 = binary_erosion(mask)\n",
    "    img3 = label(img2,8)\n",
    "    prop = regionprops(img3,img1) \n",
    "    pos = []\n",
    "    for i in prop:\n",
    "        (z,r,c) = i.centroid\n",
    "        if (z-zr)<=0 or (z+zr)>=img.shape[0]:\n",
    "            continue\n",
    "        if (r-xy)<=0:\n",
    "            continue\n",
    "        if (r+xy)>=img.shape[1]:\n",
    "            continue;\n",
    "        if (c-xy)<=0:\n",
    "            continue\n",
    "        if (c+xy)>=img.shape[2]:\n",
    "            continue;\n",
    "        pos.append((z,r,c))\n",
    "    for i,p in enumerate(pos):\n",
    "        tifffile.imsave(folder+\"\\\\Beads\\\\%d_%d\"%(timepoint[t],i),img[int(p[0]-zr):int(p[0]+zr),int(p[1]-xy):int(p[1]+xy),int(p[2]-xy):int(p[2]+xy)])\n",
    "    break;"
   ]
  },
  {
   "cell_type": "code",
   "execution_count": null,
   "metadata": {},
   "outputs": [],
   "source": [
    "img = np.array([tifffile.imread(f) for f in files])"
   ]
  },
  {
   "cell_type": "code",
   "execution_count": 102,
   "metadata": {},
   "outputs": [
    {
     "data": {
      "text/plain": [
       "(167, 201, 1024, 1024)"
      ]
     },
     "execution_count": 102,
     "metadata": {},
     "output_type": "execute_result"
    }
   ],
   "source": [
    "img.shape"
   ]
  },
  {
   "cell_type": "code",
   "execution_count": 86,
   "metadata": {},
   "outputs": [],
   "source": [
    "img1 = gaussian_filter(img,4)"
   ]
  },
  {
   "cell_type": "code",
   "execution_count": 105,
   "metadata": {},
   "outputs": [],
   "source": [
    "mask = img1> np.percentile(img1,99.9)"
   ]
  },
  {
   "cell_type": "code",
   "execution_count": 106,
   "metadata": {},
   "outputs": [
    {
     "data": {
      "text/plain": [
       "(167, 201, 1024, 1024)"
      ]
     },
     "execution_count": 106,
     "metadata": {},
     "output_type": "execute_result"
    }
   ],
   "source": [
    "mask.shape"
   ]
  },
  {
   "cell_type": "markdown",
   "metadata": {},
   "source": [
    "plt.imshow(mask[0,6])"
   ]
  },
  {
   "cell_type": "code",
   "execution_count": null,
   "metadata": {},
   "outputs": [],
   "source": [
    "img2 = binary_erosion(mask)"
   ]
  },
  {
   "cell_type": "code",
   "execution_count": null,
   "metadata": {},
   "outputs": [],
   "source": [
    "img3 = label(img2,8)"
   ]
  },
  {
   "cell_type": "code",
   "execution_count": null,
   "metadata": {},
   "outputs": [],
   "source": [
    "prop = regionprops(img3,img1) "
   ]
  },
  {
   "cell_type": "code",
   "execution_count": null,
   "metadata": {},
   "outputs": [],
   "source": [
    "len(prop)"
   ]
  },
  {
   "cell_type": "code",
   "execution_count": 94,
   "metadata": {},
   "outputs": [],
   "source": [
    "pos = []\n",
    "for i in prop:\n",
    "    (z,r,c) = i.centroid\n",
    "    if (z-40)<=0:\n",
    "        continue\n",
    "    if (z+40)>=img.shape[0]:\n",
    "        continue;\n",
    "    if (r-32)<=0:\n",
    "        continue\n",
    "    if (r+32)>=img.shape[1]:\n",
    "        continue;\n",
    "    if (c-32)<=0:\n",
    "        continue\n",
    "    if (c+32)>=img.shape[2]:\n",
    "        continue;\n",
    "    pos.append((z,r,c))"
   ]
  },
  {
   "cell_type": "code",
   "execution_count": 36,
   "metadata": {},
   "outputs": [],
   "source": [
    "\n",
    "for i,p in enumerate(pos):\n",
    "    tifffile.imsave(folder+\"\\\\Beads\\\\%d\"%i,img[int(p[0]-40):int(p[0]+40),int(p[1]-32):int(p[1]+32),int(p[2]-32):int(p[2]+32)])"
   ]
  },
  {
   "cell_type": "code",
   "execution_count": 25,
   "metadata": {},
   "outputs": [
    {
     "data": {
      "text/plain": [
       "array([], shape=(0, 0, 0), dtype=uint16)"
      ]
     },
     "execution_count": 25,
     "metadata": {},
     "output_type": "execute_result"
    }
   ],
   "source": [
    "img[int(pos[0][0]-40):int(pos[0][0]+40),int(pos[1][0]-32):int(pos[1][0]+32),int(pos[0][0]-32):int(pos[0][0]+32)]"
   ]
  },
  {
   "cell_type": "code",
   "execution_count": 24,
   "metadata": {},
   "outputs": [
    {
     "data": {
      "text/plain": [
       "2.2162162162162162"
      ]
     },
     "execution_count": 24,
     "metadata": {},
     "output_type": "execute_result"
    }
   ],
   "source": [
    "pos[0][0]"
   ]
  },
  {
   "cell_type": "code",
   "execution_count": null,
   "metadata": {},
   "outputs": [],
   "source": []
  }
 ],
 "metadata": {
  "kernelspec": {
   "display_name": "Python 3",
   "language": "python",
   "name": "python3"
  },
  "language_info": {
   "codemirror_mode": {
    "name": "ipython",
    "version": 3
   },
   "file_extension": ".py",
   "mimetype": "text/x-python",
   "name": "python",
   "nbconvert_exporter": "python",
   "pygments_lexer": "ipython3",
   "version": "3.6.5"
  }
 },
 "nbformat": 4,
 "nbformat_minor": 2
}
