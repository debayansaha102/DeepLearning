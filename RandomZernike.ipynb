{
 "cells": [
  {
   "cell_type": "code",
   "execution_count": 1,
   "metadata": {},
   "outputs": [
    {
     "name": "stderr",
     "output_type": "stream",
     "text": [
      "C:\\Users\\myerslab\\Anaconda3\\lib\\site-packages\\h5py\\__init__.py:36: FutureWarning: Conversion of the second argument of issubdtype from `float` to `np.floating` is deprecated. In future, it will be treated as `np.float64 == np.dtype(float).type`.\n",
      "  from ._conv import register_converters as _register_converters\n",
      "Using TensorFlow backend.\n"
     ]
    }
   ],
   "source": [
    "import numpy as np\n",
    "import tifffile\n",
    "import matplotlib.pyplot as plt\n",
    "import os\n",
    "import glob\n",
    "import json\n",
    "import keras\n",
    "from keras.utils import np_utils\n",
    "from keras.models import Model\n",
    "from keras.layers import *\n",
    "from keras.optimizers import Adam\n",
    "from scipy.ndimage.filters import *\n",
    "from csbdeep.utils import normalize \n",
    "from keras.callbacks import EarlyStopping"
   ]
  },
  {
   "cell_type": "code",
   "execution_count": 2,
   "metadata": {},
   "outputs": [],
   "source": [
    "# Images are in format (Z,Y,X)"
   ]
  },
  {
   "cell_type": "code",
   "execution_count": 17,
   "metadata": {},
   "outputs": [],
   "source": [
    "folder = \"D:\\\\Data\\\\2018-08-24-12-42-59-86-RandomZernike\""
   ]
  },
  {
   "cell_type": "code",
   "execution_count": 18,
   "metadata": {},
   "outputs": [],
   "source": [
    "def onehot_encode(arr): \n",
    "    uniques, ids = np.unique(arr, return_inverse=True)\n",
    "    return np_utils.to_categorical(ids, len(uniques))"
   ]
  },
  {
   "cell_type": "code",
   "execution_count": 19,
   "metadata": {},
   "outputs": [],
   "source": [
    "# Normalization of the entrire stack\n",
    "def entireStackNormalization(stackImgData): \n",
    "    # Mean and std of entire stack\n",
    "    if False:\n",
    "        mean = np.mean(stackImgData)\n",
    "        std = np.std(stackImgData)\n",
    "        normalizedStackImgData = (stackImgData - mean) / std\n",
    "        return normalizedStackImgData\n",
    "    else:\n",
    "        return normalize(stackImgData,2,99.8,clip=False)"
   ]
  },
  {
   "cell_type": "code",
   "execution_count": 20,
   "metadata": {},
   "outputs": [
    {
     "name": "stdout",
     "output_type": "stream",
     "text": [
      "Oblique Astigmation → [1,0]\n",
      "Vertical Astigmation → [0,1]\n"
     ]
    }
   ],
   "source": [
    "# Label map\n",
    "classes = [\"Oblique Astigmation\",\"Vertical Astigmation\"]\n",
    "onehot = onehot_encode(classes)\n",
    "\n",
    "for i,c in enumerate(classes):\n",
    "    print('%10s → [%d,%d]' % (c, onehot[i,0], onehot[i,1]))"
   ]
  },
  {
   "cell_type": "code",
   "execution_count": 21,
   "metadata": {},
   "outputs": [],
   "source": [
    "# Sorting files\n",
    "files = glob.glob(folder+ \"\\\\*.json\")\n",
    "timepoint = [int(f[f.rfind('_')+1:f.rfind('.')]) for f in files]\n",
    "files = [f for _,f in sorted(zip(timepoint,files))]"
   ]
  },
  {
   "cell_type": "code",
   "execution_count": 22,
   "metadata": {},
   "outputs": [
    {
     "data": {
      "text/plain": [
       "['D:\\\\Data\\\\2018-08-24-12-42-59-86-RandomZernike\\\\ALPAO_BIL118_zernike_factors_4.json',\n",
       " 'D:\\\\Data\\\\2018-08-24-12-42-59-86-RandomZernike\\\\ALPAO_BIL118_zernike_factors_9.json',\n",
       " 'D:\\\\Data\\\\2018-08-24-12-42-59-86-RandomZernike\\\\ALPAO_BIL118_zernike_factors_14.json',\n",
       " 'D:\\\\Data\\\\2018-08-24-12-42-59-86-RandomZernike\\\\ALPAO_BIL118_zernike_factors_19.json',\n",
       " 'D:\\\\Data\\\\2018-08-24-12-42-59-86-RandomZernike\\\\ALPAO_BIL118_zernike_factors_24.json',\n",
       " 'D:\\\\Data\\\\2018-08-24-12-42-59-86-RandomZernike\\\\ALPAO_BIL118_zernike_factors_29.json',\n",
       " 'D:\\\\Data\\\\2018-08-24-12-42-59-86-RandomZernike\\\\ALPAO_BIL118_zernike_factors_34.json',\n",
       " 'D:\\\\Data\\\\2018-08-24-12-42-59-86-RandomZernike\\\\ALPAO_BIL118_zernike_factors_39.json',\n",
       " 'D:\\\\Data\\\\2018-08-24-12-42-59-86-RandomZernike\\\\ALPAO_BIL118_zernike_factors_44.json',\n",
       " 'D:\\\\Data\\\\2018-08-24-12-42-59-86-RandomZernike\\\\ALPAO_BIL118_zernike_factors_49.json',\n",
       " 'D:\\\\Data\\\\2018-08-24-12-42-59-86-RandomZernike\\\\ALPAO_BIL118_zernike_factors_54.json',\n",
       " 'D:\\\\Data\\\\2018-08-24-12-42-59-86-RandomZernike\\\\ALPAO_BIL118_zernike_factors_59.json',\n",
       " 'D:\\\\Data\\\\2018-08-24-12-42-59-86-RandomZernike\\\\ALPAO_BIL118_zernike_factors_64.json',\n",
       " 'D:\\\\Data\\\\2018-08-24-12-42-59-86-RandomZernike\\\\ALPAO_BIL118_zernike_factors_69.json',\n",
       " 'D:\\\\Data\\\\2018-08-24-12-42-59-86-RandomZernike\\\\ALPAO_BIL118_zernike_factors_74.json',\n",
       " 'D:\\\\Data\\\\2018-08-24-12-42-59-86-RandomZernike\\\\ALPAO_BIL118_zernike_factors_79.json',\n",
       " 'D:\\\\Data\\\\2018-08-24-12-42-59-86-RandomZernike\\\\ALPAO_BIL118_zernike_factors_84.json',\n",
       " 'D:\\\\Data\\\\2018-08-24-12-42-59-86-RandomZernike\\\\ALPAO_BIL118_zernike_factors_89.json',\n",
       " 'D:\\\\Data\\\\2018-08-24-12-42-59-86-RandomZernike\\\\ALPAO_BIL118_zernike_factors_94.json',\n",
       " 'D:\\\\Data\\\\2018-08-24-12-42-59-86-RandomZernike\\\\ALPAO_BIL118_zernike_factors_99.json',\n",
       " 'D:\\\\Data\\\\2018-08-24-12-42-59-86-RandomZernike\\\\ALPAO_BIL118_zernike_factors_104.json',\n",
       " 'D:\\\\Data\\\\2018-08-24-12-42-59-86-RandomZernike\\\\ALPAO_BIL118_zernike_factors_109.json',\n",
       " 'D:\\\\Data\\\\2018-08-24-12-42-59-86-RandomZernike\\\\ALPAO_BIL118_zernike_factors_114.json',\n",
       " 'D:\\\\Data\\\\2018-08-24-12-42-59-86-RandomZernike\\\\ALPAO_BIL118_zernike_factors_119.json',\n",
       " 'D:\\\\Data\\\\2018-08-24-12-42-59-86-RandomZernike\\\\ALPAO_BIL118_zernike_factors_124.json',\n",
       " 'D:\\\\Data\\\\2018-08-24-12-42-59-86-RandomZernike\\\\ALPAO_BIL118_zernike_factors_129.json',\n",
       " 'D:\\\\Data\\\\2018-08-24-12-42-59-86-RandomZernike\\\\ALPAO_BIL118_zernike_factors_134.json',\n",
       " 'D:\\\\Data\\\\2018-08-24-12-42-59-86-RandomZernike\\\\ALPAO_BIL118_zernike_factors_139.json',\n",
       " 'D:\\\\Data\\\\2018-08-24-12-42-59-86-RandomZernike\\\\ALPAO_BIL118_zernike_factors_144.json',\n",
       " 'D:\\\\Data\\\\2018-08-24-12-42-59-86-RandomZernike\\\\ALPAO_BIL118_zernike_factors_149.json',\n",
       " 'D:\\\\Data\\\\2018-08-24-12-42-59-86-RandomZernike\\\\ALPAO_BIL118_zernike_factors_154.json',\n",
       " 'D:\\\\Data\\\\2018-08-24-12-42-59-86-RandomZernike\\\\ALPAO_BIL118_zernike_factors_159.json',\n",
       " 'D:\\\\Data\\\\2018-08-24-12-42-59-86-RandomZernike\\\\ALPAO_BIL118_zernike_factors_164.json',\n",
       " 'D:\\\\Data\\\\2018-08-24-12-42-59-86-RandomZernike\\\\ALPAO_BIL118_zernike_factors_169.json',\n",
       " 'D:\\\\Data\\\\2018-08-24-12-42-59-86-RandomZernike\\\\ALPAO_BIL118_zernike_factors_174.json',\n",
       " 'D:\\\\Data\\\\2018-08-24-12-42-59-86-RandomZernike\\\\ALPAO_BIL118_zernike_factors_179.json',\n",
       " 'D:\\\\Data\\\\2018-08-24-12-42-59-86-RandomZernike\\\\ALPAO_BIL118_zernike_factors_184.json',\n",
       " 'D:\\\\Data\\\\2018-08-24-12-42-59-86-RandomZernike\\\\ALPAO_BIL118_zernike_factors_189.json',\n",
       " 'D:\\\\Data\\\\2018-08-24-12-42-59-86-RandomZernike\\\\ALPAO_BIL118_zernike_factors_194.json',\n",
       " 'D:\\\\Data\\\\2018-08-24-12-42-59-86-RandomZernike\\\\ALPAO_BIL118_zernike_factors_199.json',\n",
       " 'D:\\\\Data\\\\2018-08-24-12-42-59-86-RandomZernike\\\\ALPAO_BIL118_zernike_factors_204.json',\n",
       " 'D:\\\\Data\\\\2018-08-24-12-42-59-86-RandomZernike\\\\ALPAO_BIL118_zernike_factors_209.json',\n",
       " 'D:\\\\Data\\\\2018-08-24-12-42-59-86-RandomZernike\\\\ALPAO_BIL118_zernike_factors_214.json',\n",
       " 'D:\\\\Data\\\\2018-08-24-12-42-59-86-RandomZernike\\\\ALPAO_BIL118_zernike_factors_219.json',\n",
       " 'D:\\\\Data\\\\2018-08-24-12-42-59-86-RandomZernike\\\\ALPAO_BIL118_zernike_factors_224.json',\n",
       " 'D:\\\\Data\\\\2018-08-24-12-42-59-86-RandomZernike\\\\ALPAO_BIL118_zernike_factors_229.json',\n",
       " 'D:\\\\Data\\\\2018-08-24-12-42-59-86-RandomZernike\\\\ALPAO_BIL118_zernike_factors_234.json',\n",
       " 'D:\\\\Data\\\\2018-08-24-12-42-59-86-RandomZernike\\\\ALPAO_BIL118_zernike_factors_239.json',\n",
       " 'D:\\\\Data\\\\2018-08-24-12-42-59-86-RandomZernike\\\\ALPAO_BIL118_zernike_factors_244.json',\n",
       " 'D:\\\\Data\\\\2018-08-24-12-42-59-86-RandomZernike\\\\ALPAO_BIL118_zernike_factors_249.json',\n",
       " 'D:\\\\Data\\\\2018-08-24-12-42-59-86-RandomZernike\\\\ALPAO_BIL118_zernike_factors_254.json',\n",
       " 'D:\\\\Data\\\\2018-08-24-12-42-59-86-RandomZernike\\\\ALPAO_BIL118_zernike_factors_259.json',\n",
       " 'D:\\\\Data\\\\2018-08-24-12-42-59-86-RandomZernike\\\\ALPAO_BIL118_zernike_factors_264.json',\n",
       " 'D:\\\\Data\\\\2018-08-24-12-42-59-86-RandomZernike\\\\ALPAO_BIL118_zernike_factors_269.json',\n",
       " 'D:\\\\Data\\\\2018-08-24-12-42-59-86-RandomZernike\\\\ALPAO_BIL118_zernike_factors_274.json',\n",
       " 'D:\\\\Data\\\\2018-08-24-12-42-59-86-RandomZernike\\\\ALPAO_BIL118_zernike_factors_279.json',\n",
       " 'D:\\\\Data\\\\2018-08-24-12-42-59-86-RandomZernike\\\\ALPAO_BIL118_zernike_factors_284.json',\n",
       " 'D:\\\\Data\\\\2018-08-24-12-42-59-86-RandomZernike\\\\ALPAO_BIL118_zernike_factors_289.json',\n",
       " 'D:\\\\Data\\\\2018-08-24-12-42-59-86-RandomZernike\\\\ALPAO_BIL118_zernike_factors_294.json',\n",
       " 'D:\\\\Data\\\\2018-08-24-12-42-59-86-RandomZernike\\\\ALPAO_BIL118_zernike_factors_299.json',\n",
       " 'D:\\\\Data\\\\2018-08-24-12-42-59-86-RandomZernike\\\\ALPAO_BIL118_zernike_factors_304.json',\n",
       " 'D:\\\\Data\\\\2018-08-24-12-42-59-86-RandomZernike\\\\ALPAO_BIL118_zernike_factors_309.json',\n",
       " 'D:\\\\Data\\\\2018-08-24-12-42-59-86-RandomZernike\\\\ALPAO_BIL118_zernike_factors_314.json',\n",
       " 'D:\\\\Data\\\\2018-08-24-12-42-59-86-RandomZernike\\\\ALPAO_BIL118_zernike_factors_319.json',\n",
       " 'D:\\\\Data\\\\2018-08-24-12-42-59-86-RandomZernike\\\\ALPAO_BIL118_zernike_factors_324.json',\n",
       " 'D:\\\\Data\\\\2018-08-24-12-42-59-86-RandomZernike\\\\ALPAO_BIL118_zernike_factors_329.json',\n",
       " 'D:\\\\Data\\\\2018-08-24-12-42-59-86-RandomZernike\\\\ALPAO_BIL118_zernike_factors_334.json',\n",
       " 'D:\\\\Data\\\\2018-08-24-12-42-59-86-RandomZernike\\\\ALPAO_BIL118_zernike_factors_339.json',\n",
       " 'D:\\\\Data\\\\2018-08-24-12-42-59-86-RandomZernike\\\\ALPAO_BIL118_zernike_factors_344.json',\n",
       " 'D:\\\\Data\\\\2018-08-24-12-42-59-86-RandomZernike\\\\ALPAO_BIL118_zernike_factors_349.json',\n",
       " 'D:\\\\Data\\\\2018-08-24-12-42-59-86-RandomZernike\\\\ALPAO_BIL118_zernike_factors_354.json',\n",
       " 'D:\\\\Data\\\\2018-08-24-12-42-59-86-RandomZernike\\\\ALPAO_BIL118_zernike_factors_359.json',\n",
       " 'D:\\\\Data\\\\2018-08-24-12-42-59-86-RandomZernike\\\\ALPAO_BIL118_zernike_factors_364.json',\n",
       " 'D:\\\\Data\\\\2018-08-24-12-42-59-86-RandomZernike\\\\ALPAO_BIL118_zernike_factors_369.json',\n",
       " 'D:\\\\Data\\\\2018-08-24-12-42-59-86-RandomZernike\\\\ALPAO_BIL118_zernike_factors_374.json',\n",
       " 'D:\\\\Data\\\\2018-08-24-12-42-59-86-RandomZernike\\\\ALPAO_BIL118_zernike_factors_379.json',\n",
       " 'D:\\\\Data\\\\2018-08-24-12-42-59-86-RandomZernike\\\\ALPAO_BIL118_zernike_factors_384.json',\n",
       " 'D:\\\\Data\\\\2018-08-24-12-42-59-86-RandomZernike\\\\ALPAO_BIL118_zernike_factors_389.json',\n",
       " 'D:\\\\Data\\\\2018-08-24-12-42-59-86-RandomZernike\\\\ALPAO_BIL118_zernike_factors_394.json',\n",
       " 'D:\\\\Data\\\\2018-08-24-12-42-59-86-RandomZernike\\\\ALPAO_BIL118_zernike_factors_399.json',\n",
       " 'D:\\\\Data\\\\2018-08-24-12-42-59-86-RandomZernike\\\\ALPAO_BIL118_zernike_factors_404.json',\n",
       " 'D:\\\\Data\\\\2018-08-24-12-42-59-86-RandomZernike\\\\ALPAO_BIL118_zernike_factors_409.json',\n",
       " 'D:\\\\Data\\\\2018-08-24-12-42-59-86-RandomZernike\\\\ALPAO_BIL118_zernike_factors_414.json',\n",
       " 'D:\\\\Data\\\\2018-08-24-12-42-59-86-RandomZernike\\\\ALPAO_BIL118_zernike_factors_419.json',\n",
       " 'D:\\\\Data\\\\2018-08-24-12-42-59-86-RandomZernike\\\\ALPAO_BIL118_zernike_factors_424.json',\n",
       " 'D:\\\\Data\\\\2018-08-24-12-42-59-86-RandomZernike\\\\ALPAO_BIL118_zernike_factors_429.json',\n",
       " 'D:\\\\Data\\\\2018-08-24-12-42-59-86-RandomZernike\\\\ALPAO_BIL118_zernike_factors_434.json',\n",
       " 'D:\\\\Data\\\\2018-08-24-12-42-59-86-RandomZernike\\\\ALPAO_BIL118_zernike_factors_439.json',\n",
       " 'D:\\\\Data\\\\2018-08-24-12-42-59-86-RandomZernike\\\\ALPAO_BIL118_zernike_factors_444.json',\n",
       " 'D:\\\\Data\\\\2018-08-24-12-42-59-86-RandomZernike\\\\ALPAO_BIL118_zernike_factors_449.json',\n",
       " 'D:\\\\Data\\\\2018-08-24-12-42-59-86-RandomZernike\\\\ALPAO_BIL118_zernike_factors_454.json',\n",
       " 'D:\\\\Data\\\\2018-08-24-12-42-59-86-RandomZernike\\\\ALPAO_BIL118_zernike_factors_459.json',\n",
       " 'D:\\\\Data\\\\2018-08-24-12-42-59-86-RandomZernike\\\\ALPAO_BIL118_zernike_factors_464.json',\n",
       " 'D:\\\\Data\\\\2018-08-24-12-42-59-86-RandomZernike\\\\ALPAO_BIL118_zernike_factors_469.json',\n",
       " 'D:\\\\Data\\\\2018-08-24-12-42-59-86-RandomZernike\\\\ALPAO_BIL118_zernike_factors_474.json',\n",
       " 'D:\\\\Data\\\\2018-08-24-12-42-59-86-RandomZernike\\\\ALPAO_BIL118_zernike_factors_479.json',\n",
       " 'D:\\\\Data\\\\2018-08-24-12-42-59-86-RandomZernike\\\\ALPAO_BIL118_zernike_factors_484.json',\n",
       " 'D:\\\\Data\\\\2018-08-24-12-42-59-86-RandomZernike\\\\ALPAO_BIL118_zernike_factors_489.json',\n",
       " 'D:\\\\Data\\\\2018-08-24-12-42-59-86-RandomZernike\\\\ALPAO_BIL118_zernike_factors_494.json',\n",
       " 'D:\\\\Data\\\\2018-08-24-12-42-59-86-RandomZernike\\\\ALPAO_BIL118_zernike_factors_499.json',\n",
       " 'D:\\\\Data\\\\2018-08-24-12-42-59-86-RandomZernike\\\\ALPAO_BIL118_zernike_factors_504.json',\n",
       " 'D:\\\\Data\\\\2018-08-24-12-42-59-86-RandomZernike\\\\ALPAO_BIL118_zernike_factors_509.json',\n",
       " 'D:\\\\Data\\\\2018-08-24-12-42-59-86-RandomZernike\\\\ALPAO_BIL118_zernike_factors_514.json',\n",
       " 'D:\\\\Data\\\\2018-08-24-12-42-59-86-RandomZernike\\\\ALPAO_BIL118_zernike_factors_519.json',\n",
       " 'D:\\\\Data\\\\2018-08-24-12-42-59-86-RandomZernike\\\\ALPAO_BIL118_zernike_factors_524.json',\n",
       " 'D:\\\\Data\\\\2018-08-24-12-42-59-86-RandomZernike\\\\ALPAO_BIL118_zernike_factors_529.json',\n",
       " 'D:\\\\Data\\\\2018-08-24-12-42-59-86-RandomZernike\\\\ALPAO_BIL118_zernike_factors_534.json',\n",
       " 'D:\\\\Data\\\\2018-08-24-12-42-59-86-RandomZernike\\\\ALPAO_BIL118_zernike_factors_539.json',\n",
       " 'D:\\\\Data\\\\2018-08-24-12-42-59-86-RandomZernike\\\\ALPAO_BIL118_zernike_factors_544.json',\n",
       " 'D:\\\\Data\\\\2018-08-24-12-42-59-86-RandomZernike\\\\ALPAO_BIL118_zernike_factors_549.json',\n",
       " 'D:\\\\Data\\\\2018-08-24-12-42-59-86-RandomZernike\\\\ALPAO_BIL118_zernike_factors_554.json',\n",
       " 'D:\\\\Data\\\\2018-08-24-12-42-59-86-RandomZernike\\\\ALPAO_BIL118_zernike_factors_559.json',\n",
       " 'D:\\\\Data\\\\2018-08-24-12-42-59-86-RandomZernike\\\\ALPAO_BIL118_zernike_factors_564.json',\n",
       " 'D:\\\\Data\\\\2018-08-24-12-42-59-86-RandomZernike\\\\ALPAO_BIL118_zernike_factors_569.json',\n",
       " 'D:\\\\Data\\\\2018-08-24-12-42-59-86-RandomZernike\\\\ALPAO_BIL118_zernike_factors_574.json',\n",
       " 'D:\\\\Data\\\\2018-08-24-12-42-59-86-RandomZernike\\\\ALPAO_BIL118_zernike_factors_579.json',\n",
       " 'D:\\\\Data\\\\2018-08-24-12-42-59-86-RandomZernike\\\\ALPAO_BIL118_zernike_factors_584.json',\n",
       " 'D:\\\\Data\\\\2018-08-24-12-42-59-86-RandomZernike\\\\ALPAO_BIL118_zernike_factors_589.json',\n",
       " 'D:\\\\Data\\\\2018-08-24-12-42-59-86-RandomZernike\\\\ALPAO_BIL118_zernike_factors_594.json',\n",
       " 'D:\\\\Data\\\\2018-08-24-12-42-59-86-RandomZernike\\\\ALPAO_BIL118_zernike_factors_599.json',\n",
       " 'D:\\\\Data\\\\2018-08-24-12-42-59-86-RandomZernike\\\\ALPAO_BIL118_zernike_factors_604.json',\n",
       " 'D:\\\\Data\\\\2018-08-24-12-42-59-86-RandomZernike\\\\ALPAO_BIL118_zernike_factors_609.json',\n",
       " 'D:\\\\Data\\\\2018-08-24-12-42-59-86-RandomZernike\\\\ALPAO_BIL118_zernike_factors_614.json',\n",
       " 'D:\\\\Data\\\\2018-08-24-12-42-59-86-RandomZernike\\\\ALPAO_BIL118_zernike_factors_619.json',\n",
       " 'D:\\\\Data\\\\2018-08-24-12-42-59-86-RandomZernike\\\\ALPAO_BIL118_zernike_factors_624.json',\n",
       " 'D:\\\\Data\\\\2018-08-24-12-42-59-86-RandomZernike\\\\ALPAO_BIL118_zernike_factors_629.json',\n",
       " 'D:\\\\Data\\\\2018-08-24-12-42-59-86-RandomZernike\\\\ALPAO_BIL118_zernike_factors_634.json',\n",
       " 'D:\\\\Data\\\\2018-08-24-12-42-59-86-RandomZernike\\\\ALPAO_BIL118_zernike_factors_639.json',\n",
       " 'D:\\\\Data\\\\2018-08-24-12-42-59-86-RandomZernike\\\\ALPAO_BIL118_zernike_factors_644.json',\n",
       " 'D:\\\\Data\\\\2018-08-24-12-42-59-86-RandomZernike\\\\ALPAO_BIL118_zernike_factors_649.json',\n",
       " 'D:\\\\Data\\\\2018-08-24-12-42-59-86-RandomZernike\\\\ALPAO_BIL118_zernike_factors_654.json',\n",
       " 'D:\\\\Data\\\\2018-08-24-12-42-59-86-RandomZernike\\\\ALPAO_BIL118_zernike_factors_659.json',\n",
       " 'D:\\\\Data\\\\2018-08-24-12-42-59-86-RandomZernike\\\\ALPAO_BIL118_zernike_factors_664.json',\n",
       " 'D:\\\\Data\\\\2018-08-24-12-42-59-86-RandomZernike\\\\ALPAO_BIL118_zernike_factors_669.json',\n",
       " 'D:\\\\Data\\\\2018-08-24-12-42-59-86-RandomZernike\\\\ALPAO_BIL118_zernike_factors_674.json',\n",
       " 'D:\\\\Data\\\\2018-08-24-12-42-59-86-RandomZernike\\\\ALPAO_BIL118_zernike_factors_679.json',\n",
       " 'D:\\\\Data\\\\2018-08-24-12-42-59-86-RandomZernike\\\\ALPAO_BIL118_zernike_factors_684.json',\n",
       " 'D:\\\\Data\\\\2018-08-24-12-42-59-86-RandomZernike\\\\ALPAO_BIL118_zernike_factors_689.json',\n",
       " 'D:\\\\Data\\\\2018-08-24-12-42-59-86-RandomZernike\\\\ALPAO_BIL118_zernike_factors_694.json',\n",
       " 'D:\\\\Data\\\\2018-08-24-12-42-59-86-RandomZernike\\\\ALPAO_BIL118_zernike_factors_699.json',\n",
       " 'D:\\\\Data\\\\2018-08-24-12-42-59-86-RandomZernike\\\\ALPAO_BIL118_zernike_factors_704.json',\n",
       " 'D:\\\\Data\\\\2018-08-24-12-42-59-86-RandomZernike\\\\ALPAO_BIL118_zernike_factors_709.json',\n",
       " 'D:\\\\Data\\\\2018-08-24-12-42-59-86-RandomZernike\\\\ALPAO_BIL118_zernike_factors_714.json',\n",
       " 'D:\\\\Data\\\\2018-08-24-12-42-59-86-RandomZernike\\\\ALPAO_BIL118_zernike_factors_719.json',\n",
       " 'D:\\\\Data\\\\2018-08-24-12-42-59-86-RandomZernike\\\\ALPAO_BIL118_zernike_factors_724.json',\n",
       " 'D:\\\\Data\\\\2018-08-24-12-42-59-86-RandomZernike\\\\ALPAO_BIL118_zernike_factors_729.json',\n",
       " 'D:\\\\Data\\\\2018-08-24-12-42-59-86-RandomZernike\\\\ALPAO_BIL118_zernike_factors_734.json',\n",
       " 'D:\\\\Data\\\\2018-08-24-12-42-59-86-RandomZernike\\\\ALPAO_BIL118_zernike_factors_739.json',\n",
       " 'D:\\\\Data\\\\2018-08-24-12-42-59-86-RandomZernike\\\\ALPAO_BIL118_zernike_factors_744.json',\n",
       " 'D:\\\\Data\\\\2018-08-24-12-42-59-86-RandomZernike\\\\ALPAO_BIL118_zernike_factors_749.json',\n",
       " 'D:\\\\Data\\\\2018-08-24-12-42-59-86-RandomZernike\\\\ALPAO_BIL118_zernike_factors_754.json',\n",
       " 'D:\\\\Data\\\\2018-08-24-12-42-59-86-RandomZernike\\\\ALPAO_BIL118_zernike_factors_759.json',\n",
       " 'D:\\\\Data\\\\2018-08-24-12-42-59-86-RandomZernike\\\\ALPAO_BIL118_zernike_factors_764.json',\n",
       " 'D:\\\\Data\\\\2018-08-24-12-42-59-86-RandomZernike\\\\ALPAO_BIL118_zernike_factors_769.json',\n",
       " 'D:\\\\Data\\\\2018-08-24-12-42-59-86-RandomZernike\\\\ALPAO_BIL118_zernike_factors_774.json',\n",
       " 'D:\\\\Data\\\\2018-08-24-12-42-59-86-RandomZernike\\\\ALPAO_BIL118_zernike_factors_779.json',\n",
       " 'D:\\\\Data\\\\2018-08-24-12-42-59-86-RandomZernike\\\\ALPAO_BIL118_zernike_factors_784.json',\n",
       " 'D:\\\\Data\\\\2018-08-24-12-42-59-86-RandomZernike\\\\ALPAO_BIL118_zernike_factors_789.json',\n",
       " 'D:\\\\Data\\\\2018-08-24-12-42-59-86-RandomZernike\\\\ALPAO_BIL118_zernike_factors_794.json',\n",
       " 'D:\\\\Data\\\\2018-08-24-12-42-59-86-RandomZernike\\\\ALPAO_BIL118_zernike_factors_799.json',\n",
       " 'D:\\\\Data\\\\2018-08-24-12-42-59-86-RandomZernike\\\\ALPAO_BIL118_zernike_factors_804.json',\n",
       " 'D:\\\\Data\\\\2018-08-24-12-42-59-86-RandomZernike\\\\ALPAO_BIL118_zernike_factors_809.json',\n",
       " 'D:\\\\Data\\\\2018-08-24-12-42-59-86-RandomZernike\\\\ALPAO_BIL118_zernike_factors_814.json',\n",
       " 'D:\\\\Data\\\\2018-08-24-12-42-59-86-RandomZernike\\\\ALPAO_BIL118_zernike_factors_819.json',\n",
       " 'D:\\\\Data\\\\2018-08-24-12-42-59-86-RandomZernike\\\\ALPAO_BIL118_zernike_factors_824.json',\n",
       " 'D:\\\\Data\\\\2018-08-24-12-42-59-86-RandomZernike\\\\ALPAO_BIL118_zernike_factors_829.json',\n",
       " 'D:\\\\Data\\\\2018-08-24-12-42-59-86-RandomZernike\\\\ALPAO_BIL118_zernike_factors_834.json']"
      ]
     },
     "execution_count": 22,
     "metadata": {},
     "output_type": "execute_result"
    }
   ],
   "source": [
    "files"
   ]
  },
  {
   "cell_type": "code",
   "execution_count": 23,
   "metadata": {},
   "outputs": [],
   "source": [
    "# Loading mirror modes\n",
    "modes = np.array([json.load(open(f)) for f in files])\n",
    "modes = modes[:,:,4:6]\n",
    "modes = np.reshape(modes,(modes.shape[0],modes.shape[-1]))\n",
    "#Y = np.ceil(np.abs(modes))\n",
    "#Y = modes\n",
    "#Y = np.concatenate((modes,modes,modes,modes,modes,modes,modes,modes))"
   ]
  },
  {
   "cell_type": "code",
   "execution_count": 27,
   "metadata": {},
   "outputs": [],
   "source": [
    "# Loading ImageData\n",
    "imageFiles = glob.glob(folder+ \"\\\\stacks\\\\Beads\\\\*\" )\n",
    "imageData = [None] * len(imageFiles)\n",
    "Y = np.zeros((len(imageData),2))\n",
    "for i,f in enumerate(imageFiles):\n",
    "    counter = int(f[f.rfind(\"\\\\\")+1:f.rfind(\"_\")])\n",
    "    Y[i] = modes[counter]\n",
    "    imageData[i] = tifffile.imread(f)\n",
    "imageData = np.array(imageData)"
   ]
  },
  {
   "cell_type": "raw",
   "metadata": {},
   "source": [
    "# Loading Imagedata\n",
    "imageData = np.array([tifffile.imread(f) for f in glob.glob(folder+ \"\\\\stacks\\\\images\\\\*.tif\" )])"
   ]
  },
  {
   "cell_type": "raw",
   "metadata": {},
   "source": [
    "# Cropping the ImageData to central location in XY otherwise the first and last rows might create a problem\n",
    "imageDataShape = imageData.shape\n",
    "imageData = imageData[:,:,imageDataShape[2]//2-50:imageDataShape[2]//2+50,imageDataShape[3]//2-50:imageDataShape[3]//2+50]"
   ]
  },
  {
   "cell_type": "code",
   "execution_count": 28,
   "metadata": {},
   "outputs": [],
   "source": [
    "# Creating the input dataset\n",
    "X = np.array([entireStackNormalization(i) for i in imageData])"
   ]
  },
  {
   "cell_type": "raw",
   "metadata": {},
   "source": [
    "# Cropping the data set to (64,64,64) around the maxima\n",
    "maximas = [np.unravel_index(median_filter(x,size=3).argmax(),x.shape) for x in X]\n",
    "X = np.array([X[i,m[0]-32:m[0]+32,m[1]-32:m[1]+32,m[2]-32:m[2]+32] for i,m in enumerate(maximas)])"
   ]
  },
  {
   "cell_type": "code",
   "execution_count": 29,
   "metadata": {},
   "outputs": [
    {
     "data": {
      "text/plain": [
       "(8928, 80, 64, 64)"
      ]
     },
     "execution_count": 29,
     "metadata": {},
     "output_type": "execute_result"
    }
   ],
   "source": [
    "imageData.shape"
   ]
  },
  {
   "cell_type": "code",
   "execution_count": 30,
   "metadata": {},
   "outputs": [
    {
     "data": {
      "text/plain": [
       "(8928, 80, 64, 64)"
      ]
     },
     "execution_count": 30,
     "metadata": {},
     "output_type": "execute_result"
    }
   ],
   "source": [
    "X.shape"
   ]
  },
  {
   "cell_type": "code",
   "execution_count": 31,
   "metadata": {},
   "outputs": [
    {
     "name": "stdout",
     "output_type": "stream",
     "text": [
      "(8928, 80, 64, 64, 1) (8928, 2)\n"
     ]
    }
   ],
   "source": [
    "# data size for conv layer\n",
    "X = np.expand_dims(X,-1)\n",
    "print(X.shape,Y.shape)"
   ]
  },
  {
   "cell_type": "code",
   "execution_count": 48,
   "metadata": {},
   "outputs": [],
   "source": [
    "# Loading testing data\n",
    "test_folder = \"D:\\\\Data\\\\2018-08-24-12-35-09-92-RandomZernike\"\n",
    "# Sorting files\n",
    "test_files = glob.glob(test_folder+ \"\\\\*.json\")\n",
    "test_timepoint = [int(f[f.rfind('_')+1:f.rfind('.')]) for f in test_files]\n",
    "test_files = [f for _,f in sorted(zip(test_timepoint,test_files))]\n",
    "\n",
    "# Loading mirror modes\n",
    "test_modes = np.array([json.load(open(f)) for f in test_files])\n",
    "test_modes = test_modes[:,:,4:6]\n",
    "test_modes = np.reshape(test_modes,(test_modes.shape[0],test_modes.shape[-1]))\n",
    "\n",
    "# Loading ImageData\n",
    "test_imageFiles = glob.glob(test_folder+ \"\\\\stacks\\\\Beads\\\\*\" )\n",
    "test_imageData = [None] * len(test_imageFiles)\n",
    "test_Y = np.zeros((len(test_imageData),2))\n",
    "for i,f in enumerate(test_imageFiles):\n",
    "    counter = int(f[f.rfind(\"\\\\\")+1:f.rfind(\"_\")])\n",
    "    test_Y[i] = test_modes[counter]\n",
    "    test_imageData[i] = tifffile.imread(f)\n",
    "test_imageData = np.array(test_imageData)\n",
    "\n",
    "test_X = np.array([entireStackNormalization(i) for i in test_imageData])\n",
    "test_X = np.expand_dims(test_X,-1)\n",
    "\n",
    "\n",
    "Xt,Xv = X,test_X\n",
    "Yt,Yv = Y,test_Y"
   ]
  },
  {
   "cell_type": "raw",
   "metadata": {},
   "source": [
    "# Creating seperate training and testing data\n",
    "ind = np.random.permutation(X.shape[0])\n",
    "Xt,Xv = X[ind[:len(ind)//4*3]],X[ind[len(ind)//4*3:]]\n",
    "Yt,Yv = Y[ind[:len(ind)//4*3]],Y[ind[len(ind)//4*3:]]"
   ]
  },
  {
   "cell_type": "code",
   "execution_count": 49,
   "metadata": {},
   "outputs": [
    {
     "name": "stdout",
     "output_type": "stream",
     "text": [
      "(8928, 80, 64, 64, 1) (57, 80, 64, 64, 1)\n",
      "(8928, 2) (57, 2)\n"
     ]
    }
   ],
   "source": [
    "print(Xt.shape,Xv.shape)\n",
    "print(Yt.shape,Yv.shape)"
   ]
  },
  {
   "cell_type": "code",
   "execution_count": 34,
   "metadata": {},
   "outputs": [],
   "source": [
    "# CNN Model\n",
    "def get_model():\n",
    "    inp = Input(       name='X',     shape=Xt.shape[1:])    \n",
    "    t   = Conv3D(64,   name='conv1', kernel_size=(3,3,3), activation='relu')(inp)\n",
    "    t   = Conv3D(64,   name='conv2', kernel_size=(3,3,3), activation='relu')(t)\n",
    "    t   = MaxPooling3D(name='pool1', pool_size=(2,2,2))(t)\n",
    "    t   = Conv3D(64,   name='conv3', kernel_size=(3,3,3), activation='relu')(t)\n",
    "    t   = Conv3D(64,   name='conv4', kernel_size=(3,3,3), activation='relu')(t)\n",
    "    t   = MaxPooling3D(name='pool2', pool_size=(2,2,2))(t)\n",
    "    t   = Conv3D(64,   name='conv5', kernel_size=(3,3,3), activation='relu')(t)\n",
    "    t   = Conv3D(64,   name='conv6', kernel_size=(3,3,3), activation='relu')(t)\n",
    "    t   = MaxPooling3D(name='pool3', pool_size=(2,2,2))(t)\n",
    "    #t   = Conv3D(32,   name='conv7', kernel_size=(3,3,3), activation='relu')(t)\n",
    "    #t   = Conv3D(32,   name='conv8', kernel_size=(3,3,3), activation='relu')(t)\n",
    "    #t   = MaxPooling3D(name='pool4', pool_size=(2,2,2))(t)\n",
    "    t   = Flatten(     name='flat')(t)\n",
    "    t   = Dense(128,   name='dense1', activation='relu')(t)\n",
    "    t   = Dense(128,   name='dense2', activation='relu')(t)\n",
    "    oup = Dense(Yt.shape[1],    name='Y', activation='linear')(t)\n",
    "    model = Model(inp,oup)\n",
    "    model.compile(loss='mse', optimizer=Adam(1e-4))\n",
    "    return model"
   ]
  },
  {
   "cell_type": "code",
   "execution_count": 35,
   "metadata": {},
   "outputs": [
    {
     "name": "stdout",
     "output_type": "stream",
     "text": [
      "_________________________________________________________________\n",
      "Layer (type)                 Output Shape              Param #   \n",
      "=================================================================\n",
      "X (InputLayer)               (None, 80, 64, 64, 1)     0         \n",
      "_________________________________________________________________\n",
      "conv1 (Conv3D)               (None, 78, 62, 62, 64)    1792      \n",
      "_________________________________________________________________\n",
      "conv2 (Conv3D)               (None, 76, 60, 60, 64)    110656    \n",
      "_________________________________________________________________\n",
      "pool1 (MaxPooling3D)         (None, 38, 30, 30, 64)    0         \n",
      "_________________________________________________________________\n",
      "conv3 (Conv3D)               (None, 36, 28, 28, 64)    110656    \n",
      "_________________________________________________________________\n",
      "conv4 (Conv3D)               (None, 34, 26, 26, 64)    110656    \n",
      "_________________________________________________________________\n",
      "pool2 (MaxPooling3D)         (None, 17, 13, 13, 64)    0         \n",
      "_________________________________________________________________\n",
      "conv5 (Conv3D)               (None, 15, 11, 11, 64)    110656    \n",
      "_________________________________________________________________\n",
      "conv6 (Conv3D)               (None, 13, 9, 9, 64)      110656    \n",
      "_________________________________________________________________\n",
      "pool3 (MaxPooling3D)         (None, 6, 4, 4, 64)       0         \n",
      "_________________________________________________________________\n",
      "flat (Flatten)               (None, 6144)              0         \n",
      "_________________________________________________________________\n",
      "dense1 (Dense)               (None, 128)               786560    \n",
      "_________________________________________________________________\n",
      "dense2 (Dense)               (None, 128)               16512     \n",
      "_________________________________________________________________\n",
      "Y (Dense)                    (None, 2)                 258       \n",
      "=================================================================\n",
      "Total params: 1,358,402\n",
      "Trainable params: 1,358,402\n",
      "Non-trainable params: 0\n",
      "_________________________________________________________________\n"
     ]
    }
   ],
   "source": [
    "model = get_model()\n",
    "model.summary()"
   ]
  },
  {
   "cell_type": "code",
   "execution_count": 36,
   "metadata": {},
   "outputs": [
    {
     "name": "stdout",
     "output_type": "stream",
     "text": [
      "Train on 6696 samples, validate on 2232 samples\n",
      "Epoch 1/30\n",
      "6696/6696 [==============================] - 388s 58ms/step - loss: 4.4012e-04 - val_loss: 1.0188e-04\n",
      "Epoch 2/30\n",
      "6696/6696 [==============================] - 378s 56ms/step - loss: 7.6805e-05 - val_loss: 1.0266e-04\n",
      "Epoch 3/30\n",
      "6696/6696 [==============================] - 377s 56ms/step - loss: 5.1415e-05 - val_loss: 4.4564e-05\n",
      "Epoch 4/30\n",
      "6696/6696 [==============================] - 376s 56ms/step - loss: 4.0772e-05 - val_loss: 8.8354e-05\n",
      "Epoch 5/30\n",
      "6696/6696 [==============================] - 377s 56ms/step - loss: 3.6096e-05 - val_loss: 3.1907e-05\n",
      "Epoch 6/30\n",
      "6696/6696 [==============================] - 376s 56ms/step - loss: 3.1410e-05 - val_loss: 2.3611e-05\n",
      "Epoch 7/30\n",
      "6696/6696 [==============================] - 377s 56ms/step - loss: 2.6146e-05 - val_loss: 3.0504e-05\n",
      "Epoch 8/30\n",
      "6696/6696 [==============================] - 375s 56ms/step - loss: 2.3206e-05 - val_loss: 2.5062e-05\n",
      "Epoch 9/30\n",
      "6696/6696 [==============================] - 375s 56ms/step - loss: 2.0091e-05 - val_loss: 2.3151e-05\n",
      "Epoch 10/30\n",
      "6696/6696 [==============================] - 377s 56ms/step - loss: 1.7445e-05 - val_loss: 2.2171e-05\n",
      "Epoch 11/30\n",
      "6696/6696 [==============================] - 374s 56ms/step - loss: 1.6377e-05 - val_loss: 3.2588e-05\n",
      "Epoch 12/30\n",
      "6696/6696 [==============================] - 374s 56ms/step - loss: 1.4483e-05 - val_loss: 2.3756e-05\n",
      "Epoch 13/30\n",
      "6696/6696 [==============================] - 374s 56ms/step - loss: 1.3703e-05 - val_loss: 2.6597e-05\n",
      "Epoch 14/30\n",
      "6696/6696 [==============================] - 374s 56ms/step - loss: 1.1875e-05 - val_loss: 1.6607e-05\n",
      "Epoch 15/30\n",
      "6696/6696 [==============================] - 373s 56ms/step - loss: 1.0986e-05 - val_loss: 1.9324e-05\n",
      "Epoch 16/30\n",
      "6696/6696 [==============================] - 373s 56ms/step - loss: 9.8900e-06 - val_loss: 1.9386e-05\n",
      "Epoch 17/30\n",
      "6696/6696 [==============================] - 373s 56ms/step - loss: 9.1870e-06 - val_loss: 1.6265e-05\n",
      "Epoch 18/30\n",
      "6696/6696 [==============================] - 373s 56ms/step - loss: 8.6572e-06 - val_loss: 2.6612e-05\n",
      "Epoch 19/30\n",
      "6696/6696 [==============================] - 373s 56ms/step - loss: 8.8692e-06 - val_loss: 2.1164e-05\n",
      "Epoch 20/30\n",
      "6696/6696 [==============================] - 374s 56ms/step - loss: 7.3724e-06 - val_loss: 1.4946e-05\n",
      "Epoch 21/30\n",
      "6696/6696 [==============================] - 377s 56ms/step - loss: 7.6469e-06 - val_loss: 1.5624e-05\n",
      "Epoch 22/30\n",
      "6696/6696 [==============================] - 377s 56ms/step - loss: 7.1418e-06 - val_loss: 1.8440e-05\n",
      "Epoch 23/30\n",
      "6696/6696 [==============================] - 376s 56ms/step - loss: 6.3946e-06 - val_loss: 1.7019e-05\n",
      "Epoch 24/30\n",
      "6696/6696 [==============================] - 377s 56ms/step - loss: 6.4983e-06 - val_loss: 2.0646e-05\n",
      "Epoch 25/30\n",
      "6696/6696 [==============================] - 376s 56ms/step - loss: 5.9167e-06 - val_loss: 1.7347e-05\n",
      "Epoch 26/30\n",
      "6696/6696 [==============================] - 375s 56ms/step - loss: 5.9363e-06 - val_loss: 1.7051e-05\n",
      "Epoch 27/30\n",
      "6696/6696 [==============================] - 377s 56ms/step - loss: 5.7049e-06 - val_loss: 1.9815e-05\n",
      "Epoch 28/30\n",
      "6696/6696 [==============================] - 377s 56ms/step - loss: 5.5575e-06 - val_loss: 1.7146e-05\n",
      "Epoch 29/30\n",
      "6696/6696 [==============================] - 376s 56ms/step - loss: 4.8976e-06 - val_loss: 1.6008e-05\n",
      "Epoch 30/30\n",
      "6696/6696 [==============================] - 375s 56ms/step - loss: 5.6941e-06 - val_loss: 1.9769e-05\n"
     ]
    }
   ],
   "source": [
    "callbacks = EarlyStopping(monitor='val_loss', min_delta=0.001, patience=5, verbose=1, mode='auto')\n",
    "hist = model.fit(Xt,Yt,batch_size=5, epochs=30,validation_data=(Xv,Yv))"
   ]
  },
  {
   "cell_type": "code",
   "execution_count": 197,
   "metadata": {},
   "outputs": [
    {
     "data": {
      "text/plain": [
       "[<matplotlib.lines.Line2D at 0x18507877860>]"
      ]
     },
     "execution_count": 197,
     "metadata": {},
     "output_type": "execute_result"
    },
    {
     "data": {
      "image/png": "[encoded data removed]",
      "text/plain": [
       "<Figure size 432x288 with 1 Axes>"
      ]
     },
     "metadata": {},
     "output_type": "display_data"
    }
   ],
   "source": [
    "plt.figure(); plt.semilogy(hist.epoch,hist.history['loss'])\n",
    "plt.plot(hist.epoch,hist.history['val_loss'])"
   ]
  },
  {
   "cell_type": "code",
   "execution_count": 198,
   "metadata": {},
   "outputs": [],
   "source": [
    "testImage = tifffile.imread(\"D://Data//2018-08-24-13-17-42-13-RandomZernike//stacks//CheckImages/*.tif\")"
   ]
  },
  {
   "cell_type": "code",
   "execution_count": 199,
   "metadata": {},
   "outputs": [],
   "source": [
    "testImage = np.expand_dims(testImage,-1)"
   ]
  },
  {
   "cell_type": "code",
   "execution_count": 200,
   "metadata": {},
   "outputs": [],
   "source": [
    "testImage = np.expand_dims(testImage,0)"
   ]
  },
  {
   "cell_type": "code",
   "execution_count": 201,
   "metadata": {},
   "outputs": [
    {
     "data": {
      "text/plain": [
       "(1, 71, 64, 64, 1)"
      ]
     },
     "execution_count": 201,
     "metadata": {},
     "output_type": "execute_result"
    }
   ],
   "source": [
    "testImage.shape"
   ]
  },
  {
   "cell_type": "code",
   "execution_count": 203,
   "metadata": {},
   "outputs": [
    {
     "data": {
      "text/plain": [
       "array([[ 0.0729943 , -0.01379927]], dtype=float32)"
      ]
     },
     "execution_count": 203,
     "metadata": {},
     "output_type": "execute_result"
    }
   ],
   "source": [
    "model.predict(entireStackNormalization(testImage))"
   ]
  },
  {
   "cell_type": "code",
   "execution_count": 184,
   "metadata": {},
   "outputs": [],
   "source": [
    "Xv.shape\n",
    "Yv.shape\n",
    "P = model.predict(Xv)"
   ]
  },
  {
   "cell_type": "code",
   "execution_count": 185,
   "metadata": {},
   "outputs": [
    {
     "data": {
      "text/plain": [
       "(328, 2)"
      ]
     },
     "execution_count": 185,
     "metadata": {},
     "output_type": "execute_result"
    }
   ],
   "source": [
    "P.shape"
   ]
  },
  {
   "cell_type": "code",
   "execution_count": 186,
   "metadata": {},
   "outputs": [
    {
     "data": {
      "text/plain": [
       "array([[-0.001,  0.04 ],\n",
       "       [ 0.028, -0.037],\n",
       "       [-0.07 ,  0.042],\n",
       "       [-0.035,  0.079],\n",
       "       [-0.076, -0.057]])"
      ]
     },
     "execution_count": 186,
     "metadata": {},
     "output_type": "execute_result"
    }
   ],
   "source": [
    "Yv[:5]"
   ]
  },
  {
   "cell_type": "code",
   "execution_count": 187,
   "metadata": {},
   "outputs": [
    {
     "data": {
      "text/plain": [
       "array([[-0.0012948 ,  0.04664279],\n",
       "       [ 0.03364392, -0.03870861],\n",
       "       [-0.06949345,  0.04014431],\n",
       "       [-0.03657097,  0.07063944],\n",
       "       [-0.07234331, -0.03738775]], dtype=float32)"
      ]
     },
     "execution_count": 187,
     "metadata": {},
     "output_type": "execute_result"
    }
   ],
   "source": [
    "P[:5]"
   ]
  },
  {
   "cell_type": "code",
   "execution_count": 195,
   "metadata": {},
   "outputs": [
    {
     "data": {
      "text/plain": [
       "[<matplotlib.lines.Line2D at 0x185077b7a58>]"
      ]
     },
     "execution_count": 195,
     "metadata": {},
     "output_type": "execute_result"
    },
    {
     "data": {
      "image/png": "[encoded data removed]",
      "text/plain": [
       "<Figure size 432x288 with 1 Axes>"
      ]
     },
     "metadata": {},
     "output_type": "display_data"
    }
   ],
   "source": [
    "Y.shape\n",
    "plt.plot(Yt[:,0],Yt[:,1],'o')\n",
    "plt.plot(Yv[:,0],Yv[:,1],'x')"
   ]
  },
  {
   "cell_type": "code",
   "execution_count": null,
   "metadata": {},
   "outputs": [],
   "source": []
  },
  {
   "cell_type": "code",
   "execution_count": 40,
   "metadata": {},
   "outputs": [],
   "source": [
    "testImages = np.array([tifffile.imread(f) for f in glob.glob(folder+ \"\\\\stacks\\\\CheckImages\\\\*\" )])"
   ]
  },
  {
   "cell_type": "code",
   "execution_count": 41,
   "metadata": {},
   "outputs": [],
   "source": [
    "testImages = np.expand_dims(testImages,-1)"
   ]
  },
  {
   "cell_type": "code",
   "execution_count": 42,
   "metadata": {},
   "outputs": [
    {
     "data": {
      "text/plain": [
       "(57, 80, 64, 64, 1)"
      ]
     },
     "execution_count": 42,
     "metadata": {},
     "output_type": "execute_result"
    }
   ],
   "source": [
    "testImages.shape"
   ]
  },
  {
   "cell_type": "code",
   "execution_count": 44,
   "metadata": {},
   "outputs": [
    {
     "data": {
      "text/plain": [
       "array([[ 0.027, -0.01 ],\n",
       "       [-0.004,  0.035],\n",
       "       [ 0.025,  0.056],\n",
       "       [ 0.005,  0.038],\n",
       "       [ 0.02 ,  0.051],\n",
       "       [-0.071,  0.068],\n",
       "       [ 0.005, -0.   ],\n",
       "       [ 0.019, -0.019],\n",
       "       [ 0.01 ,  0.009],\n",
       "       [ 0.023,  0.046],\n",
       "       [ 0.003,  0.009],\n",
       "       [ 0.01 ,  0.029],\n",
       "       [ 0.006,  0.027],\n",
       "       [ 0.008, -0.01 ],\n",
       "       [ 0.002, -0.016],\n",
       "       [-0.011,  0.022],\n",
       "       [ 0.014,  0.017],\n",
       "       [-0.027, -0.013],\n",
       "       [ 0.022,  0.031],\n",
       "       [ 0.033,  0.015],\n",
       "       [ 0.006,  0.016],\n",
       "       [ 0.042,  0.005],\n",
       "       [ 0.012,  0.028],\n",
       "       [ 0.007,  0.046],\n",
       "       [ 0.022,  0.001],\n",
       "       [-0.037,  0.095],\n",
       "       [ 0.018,  0.005],\n",
       "       [ 0.013, -0.012],\n",
       "       [ 0.002,  0.007],\n",
       "       [ 0.026,  0.032],\n",
       "       [ 0.007, -0.032],\n",
       "       [ 0.011,  0.026],\n",
       "       [ 0.014,  0.02 ],\n",
       "       [-0.006, -0.005],\n",
       "       [ 0.021,  0.027],\n",
       "       [ 0.019,  0.002],\n",
       "       [-0.001,  0.03 ],\n",
       "       [ 0.048, -0.043],\n",
       "       [ 0.018,  0.013],\n",
       "       [ 0.088,  0.005],\n",
       "       [ 0.003,  0.021],\n",
       "       [ 0.018,  0.015],\n",
       "       [ 0.01 ,  0.013],\n",
       "       [-0.112,  0.059],\n",
       "       [ 0.038,  0.036],\n",
       "       [ 0.007, -0.009],\n",
       "       [ 0.033, -0.009],\n",
       "       [ 0.003, -0.003],\n",
       "       [ 0.027, -0.014],\n",
       "       [ 0.025,  0.038],\n",
       "       [ 0.011,  0.004],\n",
       "       [ 0.024,  0.02 ],\n",
       "       [ 0.001,  0.002],\n",
       "       [-0.012, -0.009],\n",
       "       [ 0.009, -0.011],\n",
       "       [ 0.011,  0.031],\n",
       "       [ 0.011, -0.014]], dtype=float32)"
      ]
     },
     "execution_count": 44,
     "metadata": {},
     "output_type": "execute_result"
    }
   ],
   "source": [
    "np.round(model.predict(testImages),3)"
   ]
  },
  {
   "cell_type": "code",
   "execution_count": null,
   "metadata": {},
   "outputs": [],
   "source": []
  }
 ],
 "metadata": {
  "kernelspec": {
   "display_name": "Python 3",
   "language": "python",
   "name": "python3"
  },
  "language_info": {
   "codemirror_mode": {
    "name": "ipython",
    "version": 3
   },
   "file_extension": ".py",
   "mimetype": "text/x-python",
   "name": "python",
   "nbconvert_exporter": "python",
   "pygments_lexer": "ipython3",
   "version": "3.6.5"
  }
 },
 "nbformat": 4,
 "nbformat_minor": 2
}
